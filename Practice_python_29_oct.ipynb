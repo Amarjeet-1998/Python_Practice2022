{
  "nbformat": 4,
  "nbformat_minor": 0,
  "metadata": {
    "colab": {
      "provenance": [],
      "authorship_tag": "ABX9TyO9Q0RgTcX49M2neqcBQxxJ",
      "include_colab_link": true
    },
    "kernelspec": {
      "name": "python3",
      "display_name": "Python 3"
    },
    "language_info": {
      "name": "python"
    }
  },
  "cells": [
    {
      "cell_type": "markdown",
      "metadata": {
        "id": "view-in-github",
        "colab_type": "text"
      },
      "source": [
        "<a href=\"https://colab.research.google.com/github/Amarjeet-1998/Python_Practice2022/blob/main/Practice_python_29_oct.ipynb\" target=\"_parent\"><img src=\"https://colab.research.google.com/assets/colab-badge.svg\" alt=\"Open In Colab\"/></a>"
      ]
    },
    {
      "cell_type": "code",
      "execution_count": 2,
      "metadata": {
        "colab": {
          "base_uri": "https://localhost:8080/"
        },
        "id": "mHPRJZ0zXfjy",
        "outputId": "b273038d-fbad-420d-de7c-06ece410b54d"
      },
      "outputs": [
        {
          "output_type": "execute_result",
          "data": {
            "text/plain": [
              "str"
            ]
          },
          "metadata": {},
          "execution_count": 2
        }
      ],
      "source": [
        "type(\"Hello, World!\")\n"
      ]
    },
    {
      "cell_type": "code",
      "source": [
        "type(17)"
      ],
      "metadata": {
        "colab": {
          "base_uri": "https://localhost:8080/"
        },
        "id": "Aatl673XZGbW",
        "outputId": "624fbd1f-3b06-4637-b79b-72611750eeb2"
      },
      "execution_count": 3,
      "outputs": [
        {
          "output_type": "execute_result",
          "data": {
            "text/plain": [
              "int"
            ]
          },
          "metadata": {},
          "execution_count": 3
        }
      ]
    },
    {
      "cell_type": "code",
      "source": [
        "type(3.2)"
      ],
      "metadata": {
        "colab": {
          "base_uri": "https://localhost:8080/"
        },
        "id": "oZ7_o1WBZO5x",
        "outputId": "38860a2b-4cc8-4504-eb65-f613a1930e75"
      },
      "execution_count": 4,
      "outputs": [
        {
          "output_type": "execute_result",
          "data": {
            "text/plain": [
              "float"
            ]
          },
          "metadata": {},
          "execution_count": 4
        }
      ]
    },
    {
      "cell_type": "markdown",
      "source": [
        "* and\n",
        "* def\n",
        "*finally\n",
        "*in\n",
        "*pass\n",
        "*yield\n",
        "*as\n",
        "**del\n",
        "*for\n",
        "*is\n",
        "*raise\n",
        "*True\n",
        "*assert\n",
        "*elif\n",
        "*from\n",
        "*lambda\n",
        "*return\n",
        "*False\n",
        "*break\n",
        "*else\n",
        "*global\n",
        "*nonlocal\n",
        "*try\n",
        "*None\n",
        "*class\n",
        "*except\n",
        "*if\n",
        "*not\n",
        "*while\n",
        "*continue\n",
        "*exec\n",
        "*import\n",
        "*or\n",
        "*with\n"
      ],
      "metadata": {
        "id": "A-pgPHEOZmp4"
      }
    },
    {
      "cell_type": "code",
      "source": [
        "minutes = 645\n",
        "hours = minutes / 60\n",
        "hours"
      ],
      "metadata": {
        "colab": {
          "base_uri": "https://localhost:8080/"
        },
        "id": "UnXuMVDkZR6G",
        "outputId": "2408800e-ae23-491d-b324-bf12eb3f3b54"
      },
      "execution_count": 5,
      "outputs": [
        {
          "output_type": "execute_result",
          "data": {
            "text/plain": [
              "10.75"
            ]
          },
          "metadata": {},
          "execution_count": 5
        }
      ]
    },
    {
      "cell_type": "code",
      "source": [
        "7 // 4"
      ],
      "metadata": {
        "colab": {
          "base_uri": "https://localhost:8080/"
        },
        "id": "5OtRJ5PYbA5S",
        "outputId": "bb1ad64e-0443-49bb-a582-ace31ddf5685"
      },
      "execution_count": 6,
      "outputs": [
        {
          "output_type": "execute_result",
          "data": {
            "text/plain": [
              "1"
            ]
          },
          "metadata": {},
          "execution_count": 6
        }
      ]
    },
    {
      "cell_type": "code",
      "source": [
        "n = input(\"Please enter your name: \")"
      ],
      "metadata": {
        "colab": {
          "base_uri": "https://localhost:8080/"
        },
        "id": "2hUZTCupbEpn",
        "outputId": "b32ad5e2-7426-465a-bc75-3a3dd11372b5"
      },
      "execution_count": 7,
      "outputs": [
        {
          "name": "stdout",
          "output_type": "stream",
          "text": [
            "Please enter your name: Amarjeet\n"
          ]
        }
      ]
    },
    {
      "cell_type": "code",
      "source": [
        "response = input(\"What is your radius? \")\n",
        "r = float(response)\n",
        "area = 3.14159 * r**2\n",
        "print(\"The area is \", 3.14159 * r**2)"
      ],
      "metadata": {
        "colab": {
          "base_uri": "https://localhost:8080/"
        },
        "id": "UzpM7pgjbcKh",
        "outputId": "372ab92d-6186-4142-a677-b00cb55c8563"
      },
      "execution_count": 8,
      "outputs": [
        {
          "output_type": "stream",
          "name": "stdout",
          "text": [
            "What is your radius? 8\n",
            "The area is  201.06176\n"
          ]
        }
      ]
    },
    {
      "cell_type": "code",
      "source": [
        "print(\"The area is \", 3.14159*float(input(\"What is your radius? \"))**2)"
      ],
      "metadata": {
        "colab": {
          "base_uri": "https://localhost:8080/"
        },
        "id": "LUqyTUqxb3A1",
        "outputId": "9d26ae22-5d22-413a-d5ac-f13eb5dfbbd4"
      },
      "execution_count": 9,
      "outputs": [
        {
          "output_type": "stream",
          "name": "stdout",
          "text": [
            "What is your radius? 16\n",
            "The area is  804.24704\n"
          ]
        }
      ]
    },
    {
      "cell_type": "code",
      "source": [
        "for f in [\"Amar\",\"jeet\",\"Jain\",\"anmol\"]:\n",
        "  invite = \"Hi\" + f + \" Please come to my party on saturday!\"\n",
        "  print(invite)"
      ],
      "metadata": {
        "colab": {
          "base_uri": "https://localhost:8080/"
        },
        "id": "GU8Zwj_McJWw",
        "outputId": "cffe859e-c44d-4b68-8b50-8dc7a242d283"
      },
      "execution_count": 11,
      "outputs": [
        {
          "output_type": "stream",
          "name": "stdout",
          "text": [
            "HiAmar Please come to my party on saturday!\n",
            "Hijeet Please come to my party on saturday!\n",
            "HiJain Please come to my party on saturday!\n",
            "Hianmol Please come to my party on saturday!\n"
          ]
        }
      ]
    },
    {
      "cell_type": "code",
      "source": [
        "for i in [0,1,2,3,4]:\n",
        "  Amar.forward(50)\n",
        "  Amar.left(90)"
      ],
      "metadata": {
        "colab": {
          "base_uri": "https://localhost:8080/",
          "height": 200
        },
        "id": "fl0w4WMMdI6r",
        "outputId": "e2ad2506-1dd5-4f8f-cb35-bc42c4d7ef1c"
      },
      "execution_count": 13,
      "outputs": [
        {
          "output_type": "error",
          "ename": "NameError",
          "evalue": "ignored",
          "traceback": [
            "\u001b[0;31m---------------------------------------------------------------------------\u001b[0m",
            "\u001b[0;31mNameError\u001b[0m                                 Traceback (most recent call last)",
            "\u001b[0;32m<ipython-input-13-671ecdd8ffe5>\u001b[0m in \u001b[0;36m<module>\u001b[0;34m\u001b[0m\n\u001b[1;32m      1\u001b[0m \u001b[0;32mfor\u001b[0m \u001b[0mi\u001b[0m \u001b[0;32min\u001b[0m \u001b[0;34m[\u001b[0m\u001b[0;36m0\u001b[0m\u001b[0;34m,\u001b[0m\u001b[0;36m1\u001b[0m\u001b[0;34m,\u001b[0m\u001b[0;36m2\u001b[0m\u001b[0;34m,\u001b[0m\u001b[0;36m3\u001b[0m\u001b[0;34m,\u001b[0m\u001b[0;36m4\u001b[0m\u001b[0;34m]\u001b[0m\u001b[0;34m:\u001b[0m\u001b[0;34m\u001b[0m\u001b[0;34m\u001b[0m\u001b[0m\n\u001b[0;32m----> 2\u001b[0;31m   \u001b[0mAmar\u001b[0m\u001b[0;34m.\u001b[0m\u001b[0mforward\u001b[0m\u001b[0;34m(\u001b[0m\u001b[0;36m50\u001b[0m\u001b[0;34m)\u001b[0m\u001b[0;34m\u001b[0m\u001b[0;34m\u001b[0m\u001b[0m\n\u001b[0m\u001b[1;32m      3\u001b[0m   \u001b[0mAmar\u001b[0m\u001b[0;34m.\u001b[0m\u001b[0mleft\u001b[0m\u001b[0;34m(\u001b[0m\u001b[0;36m90\u001b[0m\u001b[0;34m)\u001b[0m\u001b[0;34m\u001b[0m\u001b[0;34m\u001b[0m\u001b[0m\n",
            "\u001b[0;31mNameError\u001b[0m: name 'Amar' is not defined"
          ]
        }
      ]
    },
    {
      "cell_type": "code",
      "source": [
        "'''def Name(parameters):\n",
        "  statements'''"
      ],
      "metadata": {
        "colab": {
          "base_uri": "https://localhost:8080/",
          "height": 36
        },
        "id": "ir0bFuageJt7",
        "outputId": "917d7384-f303-4a9a-fd73-925c4e9e3494"
      },
      "execution_count": 14,
      "outputs": [
        {
          "output_type": "execute_result",
          "data": {
            "text/plain": [
              "'def Name(parameters):\\n  statements'"
            ],
            "application/vnd.google.colaboratory.intrinsic+json": {
              "type": "string"
            }
          },
          "metadata": {},
          "execution_count": 14
        }
      ]
    },
    {
      "cell_type": "code",
      "source": [
        "def final_amt(p,r,n,t):\n",
        "\n",
        "  a = p * (1+r/n) ** (n*t)\n",
        "  return a\n",
        "\n",
        "\n",
        "toInvest = float(input(\"How much do you want to invest?\"))\n",
        "fnl = final_amt(toInvest, 0.08,12,5)\n",
        "print(\"At the end of the period you'll have\", fnl)"
      ],
      "metadata": {
        "colab": {
          "base_uri": "https://localhost:8080/"
        },
        "id": "2IsIi4sqe1MT",
        "outputId": "33af0bf0-ae90-4e97-c948-be726105b5b2"
      },
      "execution_count": 15,
      "outputs": [
        {
          "output_type": "stream",
          "name": "stdout",
          "text": [
            "How much do you want to invest?10000\n",
            "At the end of the period you'll have 14898.45708301605\n"
          ]
        }
      ]
    },
    {
      "cell_type": "code",
      "source": [
        "def final_amt_v2(principalAmount, nominalPercentageRate,numTimesPerYear, Years):\n",
        "  a = principalAmount * (1 + nominalPercentageRate / numTimesPerYear) ** (numTimesPerYear*Years)\n",
        "\n",
        "  return a\n",
        "\n",
        "def final_amt_v3(amt,rate, compounded, years):\n",
        "  a =amt * (1 + rate/compounded) ** (compounded * years)\n",
        "  return a\n"
      ],
      "metadata": {
        "id": "bMfC89zJguW6"
      },
      "execution_count": 18,
      "outputs": []
    },
    {
      "cell_type": "code",
      "source": [
        "print(final_amt_v3(10000,0.08,5,10))"
      ],
      "metadata": {
        "colab": {
          "base_uri": "https://localhost:8080/"
        },
        "id": "xbAmWZokhyby",
        "outputId": "eb0a25e7-d3c8-46d2-f361-92c592248913"
      },
      "execution_count": 19,
      "outputs": [
        {
          "output_type": "stream",
          "name": "stdout",
          "text": [
            "22114.921259423132\n"
          ]
        }
      ]
    },
    {
      "cell_type": "code",
      "source": [
        "def final_amt(p, r, n, t):\n",
        "  a = p * (1 + r/n) ** (n*t)\n",
        "  return a"
      ],
      "metadata": {
        "id": "G9Dz7XloiIP5"
      },
      "execution_count": 20,
      "outputs": []
    },
    {
      "cell_type": "code",
      "source": [
        "print(final_amt(1000,5,4,5))"
      ],
      "metadata": {
        "colab": {
          "base_uri": "https://localhost:8080/"
        },
        "id": "pputz5QOigjM",
        "outputId": "42765db6-9160-4335-ca8a-2fc5cca6c8e8"
      },
      "execution_count": 22,
      "outputs": [
        {
          "output_type": "stream",
          "name": "stdout",
          "text": [
            "11057332320.940012\n"
          ]
        }
      ]
    },
    {
      "cell_type": "markdown",
      "source": [
        "* x and False == False\n",
        "* False and x == False\n",
        "* y and x == x and y\n",
        "* x or True == True\n",
        "* True or x == True\n",
        "* x and x == x\n",
        "\n",
        "\n"
      ],
      "metadata": {
        "id": "oin1Kj3-kqta"
      }
    },
    {
      "cell_type": "code",
      "source": [
        "if x % 2 == 0:\n",
        "  print(x, \"is even.\")\n",
        "  print(\"Did you know that 2 is the only even number that is prime?\")\n",
        "\n",
        "else:\n",
        "  print(x, \"is odd.\")\n",
        "  print(\"Did you know that multiplying two odd numbers \" + \"always gives an odd result?\")"
      ],
      "metadata": {
        "colab": {
          "base_uri": "https://localhost:8080/",
          "height": 235
        },
        "id": "CUmbL2ETihct",
        "outputId": "b68650f1-b773-44f1-fd38-4f3a67aa5cc4"
      },
      "execution_count": 24,
      "outputs": [
        {
          "output_type": "error",
          "ename": "NameError",
          "evalue": "ignored",
          "traceback": [
            "\u001b[0;31m---------------------------------------------------------------------------\u001b[0m",
            "\u001b[0;31mNameError\u001b[0m                                 Traceback (most recent call last)",
            "\u001b[0;32m<ipython-input-24-bcb713a53221>\u001b[0m in \u001b[0;36m<module>\u001b[0;34m\u001b[0m\n\u001b[0;32m----> 1\u001b[0;31m \u001b[0;32mif\u001b[0m \u001b[0mx\u001b[0m \u001b[0;34m%\u001b[0m \u001b[0;36m2\u001b[0m \u001b[0;34m==\u001b[0m \u001b[0;36m0\u001b[0m\u001b[0;34m:\u001b[0m\u001b[0;34m\u001b[0m\u001b[0;34m\u001b[0m\u001b[0m\n\u001b[0m\u001b[1;32m      2\u001b[0m   \u001b[0mprint\u001b[0m\u001b[0;34m(\u001b[0m\u001b[0mx\u001b[0m\u001b[0;34m,\u001b[0m \u001b[0;34m\"is even.\"\u001b[0m\u001b[0;34m)\u001b[0m\u001b[0;34m\u001b[0m\u001b[0;34m\u001b[0m\u001b[0m\n\u001b[1;32m      3\u001b[0m   \u001b[0mprint\u001b[0m\u001b[0;34m(\u001b[0m\u001b[0;34m\"Did you know that 2 is the only even number that is prime?\"\u001b[0m\u001b[0;34m)\u001b[0m\u001b[0;34m\u001b[0m\u001b[0;34m\u001b[0m\u001b[0m\n\u001b[1;32m      4\u001b[0m \u001b[0;34m\u001b[0m\u001b[0m\n\u001b[1;32m      5\u001b[0m \u001b[0;32melse\u001b[0m\u001b[0;34m:\u001b[0m\u001b[0;34m\u001b[0m\u001b[0;34m\u001b[0m\u001b[0m\n",
            "\u001b[0;31mNameError\u001b[0m: name 'x' is not defined"
          ]
        }
      ]
    },
    {
      "cell_type": "code",
      "source": [
        "'''if BOOLEAN EXPRESSION:\n",
        "  STATEMENT_1\n",
        "else:\n",
        "  STATEMENT_2'''"
      ],
      "metadata": {
        "colab": {
          "base_uri": "https://localhost:8080/",
          "height": 36
        },
        "id": "67PU8KfImBBa",
        "outputId": "7f3b297f-9224-48d4-fd48-ef4289528684"
      },
      "execution_count": 25,
      "outputs": [
        {
          "output_type": "execute_result",
          "data": {
            "text/plain": [
              "'if BOOLEAN EXPRESSION:\\n  STATEMENT_1\\nelse:\\n  STATEMENT_2'"
            ],
            "application/vnd.google.colaboratory.intrinsic+json": {
              "type": "string"
            }
          },
          "metadata": {},
          "execution_count": 25
        }
      ]
    },
    {
      "cell_type": "code",
      "source": [
        "\n",
        "if x < 0:\n",
        "  print(\"The negative number \", x, \"is not valid here.\")\n",
        "  x =42\n",
        "  print(\"I've decided to use the number 42 instead.\")\n",
        "\n",
        "print(\"The square root of \", x, \"is \", math.sqrt(x))\n"
      ],
      "metadata": {
        "colab": {
          "base_uri": "https://localhost:8080/",
          "height": 235
        },
        "id": "a82NlfvJm6C5",
        "outputId": "89ea4eff-64aa-40c3-cc9f-85db31fdd8b6"
      },
      "execution_count": 27,
      "outputs": [
        {
          "output_type": "error",
          "ename": "TypeError",
          "evalue": "ignored",
          "traceback": [
            "\u001b[0;31m---------------------------------------------------------------------------\u001b[0m",
            "\u001b[0;31mTypeError\u001b[0m                                 Traceback (most recent call last)",
            "\u001b[0;32m<ipython-input-27-d062a7639ecf>\u001b[0m in \u001b[0;36m<module>\u001b[0;34m\u001b[0m\n\u001b[1;32m      1\u001b[0m \u001b[0mx\u001b[0m \u001b[0;34m=\u001b[0m \u001b[0;34m[\u001b[0m\u001b[0;34m]\u001b[0m\u001b[0;34m\u001b[0m\u001b[0;34m\u001b[0m\u001b[0m\n\u001b[0;32m----> 2\u001b[0;31m \u001b[0;32mif\u001b[0m \u001b[0mx\u001b[0m \u001b[0;34m<\u001b[0m \u001b[0;36m0\u001b[0m\u001b[0;34m:\u001b[0m\u001b[0;34m\u001b[0m\u001b[0;34m\u001b[0m\u001b[0m\n\u001b[0m\u001b[1;32m      3\u001b[0m   \u001b[0mprint\u001b[0m\u001b[0;34m(\u001b[0m\u001b[0;34m\"The negative number \"\u001b[0m\u001b[0;34m,\u001b[0m \u001b[0mx\u001b[0m\u001b[0;34m,\u001b[0m \u001b[0;34m\"is not valid here.\"\u001b[0m\u001b[0;34m)\u001b[0m\u001b[0;34m\u001b[0m\u001b[0;34m\u001b[0m\u001b[0m\n\u001b[1;32m      4\u001b[0m   \u001b[0mx\u001b[0m \u001b[0;34m=\u001b[0m\u001b[0;36m42\u001b[0m\u001b[0;34m\u001b[0m\u001b[0;34m\u001b[0m\u001b[0m\n\u001b[1;32m      5\u001b[0m   \u001b[0mprint\u001b[0m\u001b[0;34m(\u001b[0m\u001b[0;34m\"I've decided to use the number 42 instead.\"\u001b[0m\u001b[0;34m)\u001b[0m\u001b[0;34m\u001b[0m\u001b[0;34m\u001b[0m\u001b[0m\n",
            "\u001b[0;31mTypeError\u001b[0m: '<' not supported between instances of 'list' and 'int'"
          ]
        }
      ]
    },
    {
      "cell_type": "markdown",
      "source": [
        "* if x < y:\n",
        "\n",
        "    statement_A\n",
        "* elif x > y:\n",
        "\n",
        "    statement_B\n",
        "* else:\n",
        "\n",
        "    *Statements_C*"
      ],
      "metadata": {
        "id": "7rEBf0kPn7OT"
      }
    },
    {
      "cell_type": "code",
      "source": [
        "# if choice ==\"a\":\n",
        "#   function_one()\n",
        "# elif choice == \"b\":\n",
        "#   function_two()\n",
        "# elif choice == \"c\":\n",
        "#   function_three()\n",
        "# else:\n",
        "#   print(\"Invalid choice.\")"
      ],
      "metadata": {
        "colab": {
          "base_uri": "https://localhost:8080/",
          "height": 235
        },
        "id": "XAXC1G43npT-",
        "outputId": "ae486164-5064-4290-bd9e-cd149bc2d93a"
      },
      "execution_count": 28,
      "outputs": [
        {
          "output_type": "error",
          "ename": "NameError",
          "evalue": "ignored",
          "traceback": [
            "\u001b[0;31m---------------------------------------------------------------------------\u001b[0m",
            "\u001b[0;31mNameError\u001b[0m                                 Traceback (most recent call last)",
            "\u001b[0;32m<ipython-input-28-7a47908eae99>\u001b[0m in \u001b[0;36m<module>\u001b[0;34m\u001b[0m\n\u001b[0;32m----> 1\u001b[0;31m \u001b[0;32mif\u001b[0m \u001b[0mchoice\u001b[0m \u001b[0;34m==\u001b[0m\u001b[0;34m\"a\"\u001b[0m\u001b[0;34m:\u001b[0m\u001b[0;34m\u001b[0m\u001b[0;34m\u001b[0m\u001b[0m\n\u001b[0m\u001b[1;32m      2\u001b[0m   \u001b[0mfunction_one\u001b[0m\u001b[0;34m(\u001b[0m\u001b[0;34m)\u001b[0m\u001b[0;34m\u001b[0m\u001b[0;34m\u001b[0m\u001b[0m\n\u001b[1;32m      3\u001b[0m \u001b[0;32melif\u001b[0m \u001b[0mchoice\u001b[0m \u001b[0;34m==\u001b[0m \u001b[0;34m\"b\"\u001b[0m\u001b[0;34m:\u001b[0m\u001b[0;34m\u001b[0m\u001b[0;34m\u001b[0m\u001b[0m\n\u001b[1;32m      4\u001b[0m   \u001b[0mfunction_two\u001b[0m\u001b[0;34m(\u001b[0m\u001b[0;34m)\u001b[0m\u001b[0;34m\u001b[0m\u001b[0;34m\u001b[0m\u001b[0m\n\u001b[1;32m      5\u001b[0m \u001b[0;32melif\u001b[0m \u001b[0mchoice\u001b[0m \u001b[0;34m==\u001b[0m \u001b[0;34m\"c\"\u001b[0m\u001b[0;34m:\u001b[0m\u001b[0;34m\u001b[0m\u001b[0;34m\u001b[0m\u001b[0m\n",
            "\u001b[0;31mNameError\u001b[0m: name 'choice' is not defined"
          ]
        }
      ]
    },
    {
      "cell_type": "code",
      "source": [
        "# if x < y:\n",
        "#     STATEMENTS_A\n",
        "# else:\n",
        "#     if x > y:\n",
        "#         STATEMENTS_B\n",
        "#     else:\n",
        "#         STATEMENTS_C"
      ],
      "metadata": {
        "id": "K71blavjolIp"
      },
      "execution_count": 29,
      "outputs": []
    },
    {
      "cell_type": "code",
      "source": [
        "x = 5\n",
        "if 0 < x:\n",
        "  if x < 10:\n",
        "    print(\"x is a positive single digit.\")"
      ],
      "metadata": {
        "colab": {
          "base_uri": "https://localhost:8080/"
        },
        "id": "UAgzV9iyo8tM",
        "outputId": "04eb2185-036e-4887-f870-26dcbc812c0d"
      },
      "execution_count": 31,
      "outputs": [
        {
          "output_type": "stream",
          "name": "stdout",
          "text": [
            "x is a positive single digit.\n"
          ]
        }
      ]
    },
    {
      "cell_type": "code",
      "source": [
        "if 0 < x and x < 10:\n",
        "  print(\"x is a positive single digit.\")"
      ],
      "metadata": {
        "colab": {
          "base_uri": "https://localhost:8080/"
        },
        "id": "JwoEWaOJpI_Z",
        "outputId": "8ebc2d31-2608-4c19-8964-4149a7a171a4"
      },
      "execution_count": 32,
      "outputs": [
        {
          "output_type": "stream",
          "name": "stdout",
          "text": [
            "x is a positive single digit.\n"
          ]
        }
      ]
    },
    {
      "cell_type": "code",
      "source": [
        "def print_square_root(x):\n",
        "  if x <== 0:\n",
        "    print(\"positive numbers only, please.\")\n",
        "    return\n",
        "\n",
        "  result = x ** 0.5\n",
        "  print(\"The square root of\", x , \"is\", result)"
      ],
      "metadata": {
        "colab": {
          "base_uri": "https://localhost:8080/",
          "height": 130
        },
        "id": "mmbPoR_8peOv",
        "outputId": "a781ca5f-3fbd-478b-9c3c-d00346bd287d"
      },
      "execution_count": 33,
      "outputs": [
        {
          "output_type": "error",
          "ename": "SyntaxError",
          "evalue": "ignored",
          "traceback": [
            "\u001b[0;36m  File \u001b[0;32m\"<ipython-input-33-93a97a4889a2>\"\u001b[0;36m, line \u001b[0;32m2\u001b[0m\n\u001b[0;31m    if x <== 0:\u001b[0m\n\u001b[0m           ^\u001b[0m\n\u001b[0;31mSyntaxError\u001b[0m\u001b[0;31m:\u001b[0m invalid syntax\n"
          ]
        }
      ]
    },
    {
      "cell_type": "code",
      "source": [
        "age =16\n",
        "if not (age >= 17):\n",
        "  print(\"Hey, you're too young to get a driving licence!\")"
      ],
      "metadata": {
        "colab": {
          "base_uri": "https://localhost:8080/"
        },
        "id": "pkkprbkQp8Z9",
        "outputId": "65b689f5-c942-4927-967f-b320ab1fe33d"
      },
      "execution_count": 35,
      "outputs": [
        {
          "output_type": "stream",
          "name": "stdout",
          "text": [
            "Hey, you're too young to get a driving licence!\n"
          ]
        }
      ]
    },
    {
      "cell_type": "code",
      "source": [
        "if age < 17:\n",
        "  print(\"Hey, you're too young to get a driving licence!\")"
      ],
      "metadata": {
        "colab": {
          "base_uri": "https://localhost:8080/"
        },
        "id": "KEpbjxDdqc0h",
        "outputId": "14822866-c69b-49a1-a762-c96601eca2c0"
      },
      "execution_count": 36,
      "outputs": [
        {
          "output_type": "stream",
          "name": "stdout",
          "text": [
            "Hey, you're too young to get a driving licence!\n"
          ]
        }
      ]
    },
    {
      "cell_type": "code",
      "source": [
        "import math\n",
        "a = math.sqrt(2.0)\n",
        "print(a, a*a)\n",
        "print(a*a == 2.0)"
      ],
      "metadata": {
        "colab": {
          "base_uri": "https://localhost:8080/"
        },
        "id": "cZhyajQVq22G",
        "outputId": "071e8e8d-b1f9-4096-c588-c16bf6242837"
      },
      "execution_count": 38,
      "outputs": [
        {
          "output_type": "stream",
          "name": "stdout",
          "text": [
            "1.4142135623730951 2.0000000000000004\n",
            "False\n"
          ]
        }
      ]
    },
    {
      "cell_type": "code",
      "source": [
        "def area(radius):\n",
        "  b = 3.14 * radius** 2\n",
        "  return b"
      ],
      "metadata": {
        "id": "FWYt5llzr_yH"
      },
      "execution_count": 39,
      "outputs": []
    },
    {
      "cell_type": "code",
      "source": [
        "area(16)"
      ],
      "metadata": {
        "colab": {
          "base_uri": "https://localhost:8080/"
        },
        "id": "nUsotb-zs7Mi",
        "outputId": "2d285989-4677-4c1b-cc4c-61104803a3b2"
      },
      "execution_count": 40,
      "outputs": [
        {
          "output_type": "execute_result",
          "data": {
            "text/plain": [
              "803.84"
            ]
          },
          "metadata": {},
          "execution_count": 40
        }
      ]
    },
    {
      "cell_type": "code",
      "source": [
        "def distance(x1,y1,x2,y2):\n",
        "  dx = x2 - x1\n",
        "  dy = y2 - y1\n",
        "  return 0.0\n",
        "  "
      ],
      "metadata": {
        "id": "so-b_7edtCUx"
      },
      "execution_count": 41,
      "outputs": []
    },
    {
      "cell_type": "code",
      "source": [
        "def is_divisible(x,y):\n",
        "  return x % y == 0"
      ],
      "metadata": {
        "id": "TU8PPHI5t7jn"
      },
      "execution_count": 42,
      "outputs": []
    },
    {
      "cell_type": "code",
      "source": [
        "is_divisible(5,4)"
      ],
      "metadata": {
        "colab": {
          "base_uri": "https://localhost:8080/"
        },
        "id": "DxvCxpf9vQaf",
        "outputId": "90e0f5d3-6e1b-4f16-ed35-b3c495622d34"
      },
      "execution_count": 43,
      "outputs": [
        {
          "output_type": "execute_result",
          "data": {
            "text/plain": [
              "False"
            ]
          },
          "metadata": {},
          "execution_count": 43
        }
      ]
    },
    {
      "cell_type": "code",
      "source": [
        "def absolute_value(n):\n",
        "\n",
        "  if n < 0:\n",
        "    return 1\n",
        "  elif n > 0:\n",
        "    return"
      ],
      "metadata": {
        "id": "CrfTJNUevToa"
      },
      "execution_count": 44,
      "outputs": []
    },
    {
      "cell_type": "code",
      "source": [
        "absolute_value(12)"
      ],
      "metadata": {
        "id": "ugzGN_xHvw0l"
      },
      "execution_count": 45,
      "outputs": []
    },
    {
      "cell_type": "code",
      "source": [],
      "metadata": {
        "id": "DQ68Bhx6v1Oe"
      },
      "execution_count": null,
      "outputs": []
    }
  ]
}