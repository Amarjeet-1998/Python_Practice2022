{
  "nbformat": 4,
  "nbformat_minor": 0,
  "metadata": {
    "colab": {
      "provenance": [],
      "authorship_tag": "ABX9TyOBSzHMEriTfCid8GiAwwx7",
      "include_colab_link": true
    },
    "kernelspec": {
      "name": "python3",
      "display_name": "Python 3"
    },
    "language_info": {
      "name": "python"
    }
  },
  "cells": [
    {
      "cell_type": "markdown",
      "metadata": {
        "id": "view-in-github",
        "colab_type": "text"
      },
      "source": [
        "<a href=\"https://colab.research.google.com/github/Amarjeet-1998/Python_Practice2022/blob/main/Python_interview_pract.ipynb\" target=\"_parent\"><img src=\"https://colab.research.google.com/assets/colab-badge.svg\" alt=\"Open In Colab\"/></a>"
      ]
    },
    {
      "cell_type": "code",
      "execution_count": 1,
      "metadata": {
        "colab": {
          "base_uri": "https://localhost:8080/"
        },
        "id": "cuqVLjJ4DLVH",
        "outputId": "2e4f05ca-66d5-4c7c-ccca-bdb004a73c7b"
      },
      "outputs": [
        {
          "output_type": "stream",
          "name": "stdout",
          "text": [
            "please give a number: 56\n",
            "before reverse your number is: 56\n",
            "After reverse: 65\n"
          ]
        }
      ],
      "source": [
        "# reverse a number\n",
        "\n",
        "n = int(input(\"please give a number: \"))\n",
        "print(\"before reverse your number is: %d\" %n)\n",
        "reverse = 0\n",
        "while n != 0:\n",
        "  reverse = reverse*10 + n%10\n",
        "  n = (n//10)\n",
        "print(\"After reverse: %d\" %reverse)"
      ]
    },
    {
      "cell_type": "code",
      "source": [
        "# Program to check a number is Armstrong or not in python programming language\n",
        "\n",
        "i = 0\n",
        "result = 0\n",
        "n = int(input(\"please give a number: \"))\n",
        "number1 = n\n",
        "temp = n\n",
        "while n != 0:\n",
        "  n = (n//10)\n",
        "  i = i+1\n",
        "while number1 != 0:\n",
        "  n = number1%10\n",
        "  result=result+pow(n,i)\n",
        "  number1 = number1//10\n",
        "if temp == result:\n",
        "  print(\"number is armstrong\")\n",
        "else:\n",
        "  print(\"number is not armstrong\")\n"
      ],
      "metadata": {
        "colab": {
          "base_uri": "https://localhost:8080/"
        },
        "id": "iODNW45DDmFn",
        "outputId": "b7580c6f-2e2c-43e5-bc2d-cd533acb09e4"
      },
      "execution_count": 2,
      "outputs": [
        {
          "output_type": "stream",
          "name": "stdout",
          "text": [
            "please give a number: 37\n",
            "number is not armstrong\n"
          ]
        }
      ]
    },
    {
      "cell_type": "code",
      "source": [
        "# prime number program in python \n",
        "\n",
        "i, temp = 0,0\n",
        "n = int(input(\"please give a number: \"))\n",
        "for i in range(2, n//2):\n",
        "  if n%i == 0:\n",
        "    temp = 1\n",
        "    break\n",
        "  if temp == 1:\n",
        "    print(\"given number is not prime\")\n",
        "  else:\n",
        "    print(\"given number is prime\")\n"
      ],
      "metadata": {
        "colab": {
          "base_uri": "https://localhost:8080/"
        },
        "id": "fhfuR4BfE5gn",
        "outputId": "d66676cc-2d52-4f06-9fac-7ffc2f13dc7a"
      },
      "execution_count": 3,
      "outputs": [
        {
          "output_type": "stream",
          "name": "stdout",
          "text": [
            "please give a number: 31\n",
            "given number is prime\n",
            "given number is prime\n",
            "given number is prime\n",
            "given number is prime\n",
            "given number is prime\n",
            "given number is prime\n",
            "given number is prime\n",
            "given number is prime\n",
            "given number is prime\n",
            "given number is prime\n",
            "given number is prime\n",
            "given number is prime\n",
            "given number is prime\n"
          ]
        }
      ]
    },
    {
      "cell_type": "code",
      "source": [
        "# fibonacci series program in python using iterative method\n",
        "\n",
        "first, second = 0,1\n",
        "n = int(input(\"please give a number for fibonacci series: \"))\n",
        "print(\"fibonacci series are: \")\n",
        "for i in range(0, n):\n",
        "  if i <= 1:\n",
        "    result = i\n",
        "  else:\n",
        "    result = first + second;\n",
        "    first = second;\n",
        "    second = result\n",
        "  print(result)"
      ],
      "metadata": {
        "colab": {
          "base_uri": "https://localhost:8080/"
        },
        "id": "OI0BFUl2G1XW",
        "outputId": "38eef288-560f-4df9-d453-d528053cd78f"
      },
      "execution_count": 4,
      "outputs": [
        {
          "output_type": "stream",
          "name": "stdout",
          "text": [
            "please give a number for fibonacci series: 40\n",
            "fibonacci series are: \n",
            "0\n",
            "1\n",
            "1\n",
            "2\n",
            "3\n",
            "5\n",
            "8\n",
            "13\n",
            "21\n",
            "34\n",
            "55\n",
            "89\n",
            "144\n",
            "233\n",
            "377\n",
            "610\n",
            "987\n",
            "1597\n",
            "2584\n",
            "4181\n",
            "6765\n",
            "10946\n",
            "17711\n",
            "28657\n",
            "46368\n",
            "75025\n",
            "121393\n",
            "196418\n",
            "317811\n",
            "514229\n",
            "832040\n",
            "1346269\n",
            "2178309\n",
            "3524578\n",
            "5702887\n",
            "9227465\n",
            "14930352\n",
            "24157817\n",
            "39088169\n",
            "63245986\n"
          ]
        }
      ]
    },
    {
      "cell_type": "code",
      "source": [
        "# fibonacci series program in python using recursive method\n",
        "\n",
        "first, second = 0,1\n",
        "n = int(input(\"please give a number for fibonacci series: \"))\n",
        "def fibonacci(num):\n",
        "  if num == 0:\n",
        "    return 0\n",
        "  elif num == 1:\n",
        "    return 1\n",
        "  else:\n",
        "    return fibonacci(num-1)+fibonacci(num-2)\n",
        "\n",
        "print(\"fibonacci series are: \")\n",
        "for i in range(0,n):\n",
        "  print(fibonacci(i))"
      ],
      "metadata": {
        "colab": {
          "base_uri": "https://localhost:8080/"
        },
        "id": "O-1tgJkiHkJs",
        "outputId": "bf17dea2-667d-4afe-8a9d-e0bf7199c8e8"
      },
      "execution_count": 5,
      "outputs": [
        {
          "output_type": "stream",
          "name": "stdout",
          "text": [
            "please give a number for fibonacci series: 30\n",
            "fibonacci series are: \n",
            "0\n",
            "1\n",
            "1\n",
            "2\n",
            "3\n",
            "5\n",
            "8\n",
            "13\n",
            "21\n",
            "34\n",
            "55\n",
            "89\n",
            "144\n",
            "233\n",
            "377\n",
            "610\n",
            "987\n",
            "1597\n",
            "2584\n",
            "4181\n",
            "6765\n",
            "10946\n",
            "17711\n",
            "28657\n",
            "46368\n",
            "75025\n",
            "121393\n",
            "196418\n",
            "317811\n",
            "514229\n"
          ]
        }
      ]
    },
    {
      "cell_type": "code",
      "source": [
        "# program in python to check whether a number is palindrome or not using iterative method\n",
        "# A palindrome number is a number which reverse is equal to the original number means number itself\n",
        "\n",
        "n = int(input(\"please give a number: \"))\n",
        "reverse, temp = 0,n\n",
        "while temp != 0:\n",
        "  reverse = reverse*10 + temp%10;\n",
        "  temp = temp//10;\n",
        "if reverse == n:\n",
        "  print(\"number is palindrom\")\n",
        "else:\n",
        "  print(\"number is not palindrome\")\n"
      ],
      "metadata": {
        "colab": {
          "base_uri": "https://localhost:8080/"
        },
        "id": "ugsC8Gy7IeTE",
        "outputId": "f35723d3-d6d1-4c2a-8f8e-9755af8be6b5"
      },
      "execution_count": 6,
      "outputs": [
        {
          "output_type": "stream",
          "name": "stdout",
          "text": [
            "please give a number: 232\n",
            "number is palindrom\n"
          ]
        }
      ]
    },
    {
      "cell_type": "code",
      "source": [
        "# program in python to check whether a number is palindrome or not using recursive method\n",
        "\n",
        "n = int(input(\"please give a number: \"))\n",
        "def reverse(num):\n",
        "  if num < 10:\n",
        "    return num\n",
        "  else:\n",
        "    return int(str(num%10)+str(reverse(num//10)))\n",
        "def ispalindrome(num):\n",
        "  if num == reverse(num):\n",
        "    return 1\n",
        "  return 0\n",
        "if ispalindrome(n) == 1:\n",
        "  print(\"Given number is a palidrome\")\n",
        "else:\n",
        "  print(\"Given number is a not palindrome\")\n"
      ],
      "metadata": {
        "colab": {
          "base_uri": "https://localhost:8080/"
        },
        "id": "8MnE2W-fJnSi",
        "outputId": "f79c6d94-5326-418e-a1e0-38fc2d4d5a4b"
      },
      "execution_count": 8,
      "outputs": [
        {
          "output_type": "stream",
          "name": "stdout",
          "text": [
            "please give a number: 1331\n",
            "Given number is a palidrome\n"
          ]
        }
      ]
    },
    {
      "cell_type": "code",
      "source": [
        "# python program to find greatest of three numbers\n",
        "\n",
        "n1 = int(input(\"please give first number n1: \"))\n",
        "n2 = int(input(\"please give second number n2: \"))\n",
        "n3 = int(input(\"please give third number n3: \"))\n",
        "\n",
        "if n1 >= n2 and n1>= n3:\n",
        "  print(\"n1 is greater\")\n",
        "if n2 >= n1 and n2 >= n3:\n",
        "  print(\"n2 is greatest\")\n",
        "if n3 >= n1 and n3>= n2:\n",
        "  print(\"n3 is greatest\")"
      ],
      "metadata": {
        "colab": {
          "base_uri": "https://localhost:8080/"
        },
        "id": "WVWxf40dKv41",
        "outputId": "910f7321-55aa-4729-c9b5-bd044bb98388"
      },
      "execution_count": 9,
      "outputs": [
        {
          "output_type": "stream",
          "name": "stdout",
          "text": [
            "please give first number n1: 212\n",
            "please give second number n2: 122\n",
            "please give third number n3: 332\n",
            "n3 is greatest\n"
          ]
        }
      ]
    },
    {
      "cell_type": "code",
      "source": [
        "#program to check given number representation is in binary or not\n",
        "\n",
        "num = int(input(\"please give a number: \"))\n",
        "while (num>0):\n",
        "  j = num%10\n",
        "  if j != 0 and j!= 1:\n",
        "    print(\"num is not binary\")\n",
        "    break\n",
        "  num = num // 10\n",
        "  if num == 0:\n",
        "    print(\"num is binary\")"
      ],
      "metadata": {
        "colab": {
          "base_uri": "https://localhost:8080/"
        },
        "id": "Xzvo-uL1LiM6",
        "outputId": "892205a7-8a2a-4c38-8079-ea30762c188c"
      },
      "execution_count": 10,
      "outputs": [
        {
          "output_type": "stream",
          "name": "stdout",
          "text": [
            "please give a number: 1\n",
            "num is binary\n"
          ]
        }
      ]
    },
    {
      "cell_type": "code",
      "source": [
        "# python program to swap two number without using third variable\n",
        "\n",
        "a = int(input(\"please give first number a: \"))\n",
        "b = int(input(\"please give second number b: \"))\n",
        "a = a-b\n",
        "b = a+b\n",
        "a = b-a\n",
        "print(\"After swapping\")\n",
        "print(\"value of a is: \", a)\n",
        "print(\"value of b is: \", b)"
      ],
      "metadata": {
        "colab": {
          "base_uri": "https://localhost:8080/"
        },
        "id": "pXWsjAvQMJht",
        "outputId": "5c0d124c-b43c-44b3-a3d2-ed5d3aa8fc56"
      },
      "execution_count": 11,
      "outputs": [
        {
          "output_type": "stream",
          "name": "stdout",
          "text": [
            "please give first number a: 56\n",
            "please give second number b: 43\n",
            "After swapping\n",
            "value of a is:  43\n",
            "value of b is:  56\n"
          ]
        }
      ]
    },
    {
      "cell_type": "code",
      "source": [
        "#python program to swap two number using third variable\n",
        "\n",
        "a = int(input(\"please give first number a: \"))\n",
        "b = int(input(\"please give second number b: \"))\n",
        "tempvar = a\n",
        "a = b\n",
        "b = tempvar\n",
        "print(\"After swapping\")\n",
        "print(\"value of a is:\", a)\n",
        "print(\"value of b is:\", b)\n",
        "\n"
      ],
      "metadata": {
        "colab": {
          "base_uri": "https://localhost:8080/"
        },
        "id": "JOBDLh9nM02W",
        "outputId": "3c2e574c-1ca9-4385-c844-612eac366040"
      },
      "execution_count": 12,
      "outputs": [
        {
          "output_type": "stream",
          "name": "stdout",
          "text": [
            "please give first number a: 21\n",
            "please give second number b: 45\n",
            "After swapping\n",
            "value of a is: 45\n",
            "value of b is: 21\n"
          ]
        }
      ]
    },
    {
      "cell_type": "code",
      "source": [
        "# program to check a given number is perfect or not in python\n",
        "\n",
        "num = int(input(\"please give number a: \"))\n",
        "sum = 0\n",
        "for i in range(1,(num//2)+1):\n",
        "  remainder = num % i\n",
        "  if remainder == 0:\n",
        "    sum = sum + 1\n",
        "  if sum == num:\n",
        "    print(\"given no. is perfect number\")\n",
        "  else:\n",
        "    print(\"given no. is not a perfect number\")\n",
        "    \n",
        "  "
      ],
      "metadata": {
        "colab": {
          "base_uri": "https://localhost:8080/"
        },
        "id": "_xhNb5T0N1fc",
        "outputId": "ddf945f5-627c-4f2f-bf79-b1630986a42f"
      },
      "execution_count": 13,
      "outputs": [
        {
          "output_type": "stream",
          "name": "stdout",
          "text": [
            "please give number a: 43\n",
            "given no. is not a perfect number\n",
            "given no. is not a perfect number\n",
            "given no. is not a perfect number\n",
            "given no. is not a perfect number\n",
            "given no. is not a perfect number\n",
            "given no. is not a perfect number\n",
            "given no. is not a perfect number\n",
            "given no. is not a perfect number\n",
            "given no. is not a perfect number\n",
            "given no. is not a perfect number\n",
            "given no. is not a perfect number\n",
            "given no. is not a perfect number\n",
            "given no. is not a perfect number\n",
            "given no. is not a perfect number\n",
            "given no. is not a perfect number\n",
            "given no. is not a perfect number\n",
            "given no. is not a perfect number\n",
            "given no. is not a perfect number\n",
            "given no. is not a perfect number\n",
            "given no. is not a perfect number\n",
            "given no. is not a perfect number\n"
          ]
        }
      ]
    },
    {
      "cell_type": "code",
      "source": [
        "# python code to find the average of numbers\n",
        "\n",
        "size = int(input(\"Enter the number of elements you want in array: \"))\n",
        "arr = []\n",
        "#taking input of the list\n",
        "for i in range(0, size):\n",
        "  elem = int(input(\"please give value for index \"+ str(i)+\":\"))\n",
        "  arr.append(elem)\n",
        "#taking average of the elements of the list\n",
        "avg = sum(arr)/(size)\n",
        "print(\"Average of the array elements is\", avg)"
      ],
      "metadata": {
        "colab": {
          "base_uri": "https://localhost:8080/",
          "height": 269
        },
        "id": "DXYtvWLrOmRR",
        "outputId": "10783b15-c06d-49b1-e1fb-d0c627acd383"
      },
      "execution_count": 18,
      "outputs": [
        {
          "name": "stdout",
          "output_type": "stream",
          "text": [
            "Enter the number of elements you want in array: 2\n",
            "please give value for index 0:12\n",
            "please give value for index 1:34\n"
          ]
        },
        {
          "output_type": "error",
          "ename": "TypeError",
          "evalue": "ignored",
          "traceback": [
            "\u001b[0;31m---------------------------------------------------------------------------\u001b[0m",
            "\u001b[0;31mTypeError\u001b[0m                                 Traceback (most recent call last)",
            "\u001b[0;32m<ipython-input-18-15fab453c1d0>\u001b[0m in \u001b[0;36m<module>\u001b[0;34m\u001b[0m\n\u001b[1;32m      8\u001b[0m   \u001b[0marr\u001b[0m\u001b[0;34m.\u001b[0m\u001b[0mappend\u001b[0m\u001b[0;34m(\u001b[0m\u001b[0melem\u001b[0m\u001b[0;34m)\u001b[0m\u001b[0;34m\u001b[0m\u001b[0;34m\u001b[0m\u001b[0m\n\u001b[1;32m      9\u001b[0m \u001b[0;31m#taking average of the elements of the list\u001b[0m\u001b[0;34m\u001b[0m\u001b[0;34m\u001b[0m\u001b[0;34m\u001b[0m\u001b[0m\n\u001b[0;32m---> 10\u001b[0;31m \u001b[0mavg\u001b[0m \u001b[0;34m=\u001b[0m \u001b[0msum\u001b[0m\u001b[0;34m(\u001b[0m\u001b[0marr\u001b[0m\u001b[0;34m)\u001b[0m\u001b[0;34m/\u001b[0m\u001b[0mint\u001b[0m\u001b[0;34m(\u001b[0m\u001b[0msize\u001b[0m\u001b[0;34m)\u001b[0m\u001b[0;34m\u001b[0m\u001b[0;34m\u001b[0m\u001b[0m\n\u001b[0m\u001b[1;32m     11\u001b[0m \u001b[0mprint\u001b[0m\u001b[0;34m(\u001b[0m\u001b[0;34m\"Average of the array elements is\"\u001b[0m\u001b[0;34m,\u001b[0m \u001b[0mavg\u001b[0m\u001b[0;34m)\u001b[0m\u001b[0;34m\u001b[0m\u001b[0;34m\u001b[0m\u001b[0m\n",
            "\u001b[0;31mTypeError\u001b[0m: 'int' object is not callable"
          ]
        }
      ]
    },
    {
      "cell_type": "code",
      "source": [
        "#python program to calculate the factorial using iterative approach\n",
        "\n",
        "num = int(input(\"Enter the whole number to find the factorial: \"))\n",
        "factorial = 1\n",
        "if num < 0:\n",
        "  print(\"Factorial can't be calculated for negative number\")\n",
        "elif num == 0:\n",
        "  print(\"Factorial of 0 is 1\")\n",
        "else:\n",
        "  for i in range(1, num + 1):\n",
        "    factorial = factorial*i\n",
        "  print(\"Factorial of\", num,\"is\", factorial)\n"
      ],
      "metadata": {
        "colab": {
          "base_uri": "https://localhost:8080/"
        },
        "id": "gZxKY5RTPmaV",
        "outputId": "d3ceed0d-8161-4696-aaee-d6cb8d14392e"
      },
      "execution_count": 21,
      "outputs": [
        {
          "output_type": "stream",
          "name": "stdout",
          "text": [
            "Enter the whole number to find the factorial: 12\n",
            "Factorial of 12 is 479001600\n"
          ]
        }
      ]
    },
    {
      "cell_type": "code",
      "source": [
        "# Recursion\n",
        "\"\"\"\n",
        "Recursion is a method that defines something in terms of itself, which means it is a \n",
        "process in which a function calls itself. A complete function can be split down into \n",
        "various sub-parts in recursion. It makes code look simple and compact. it is also defined\n",
        "as the process of defining a program or program in terms of itself.\n",
        "\"\"\"\n",
        "\n",
        "def fact(n):\n",
        "  if n == 1:\n",
        "    return n\n",
        "  else:\n",
        "    return n * fact(n-1)\n",
        "num = int(input(\"Enter a whole number to find factorial: \"))\n",
        "if num < 0:\n",
        "  print(\"Factorial can't be calculated for negative number\")\n",
        "elif num == 0:\n",
        "  print(\"Factorial of 0 is 1\")\n",
        "else:\n",
        "  print(\"Factorial of\", num, \"is\", fact(num))"
      ],
      "metadata": {
        "colab": {
          "base_uri": "https://localhost:8080/"
        },
        "id": "LHOdhCaORYWT",
        "outputId": "f374e0de-0b96-479d-a714-9d51f4fa40c6"
      },
      "execution_count": 23,
      "outputs": [
        {
          "output_type": "stream",
          "name": "stdout",
          "text": [
            "Enter a whole number to find factorial: 5\n",
            "Factorial of 5 is 120\n"
          ]
        }
      ]
    },
    {
      "cell_type": "code",
      "source": [],
      "metadata": {
        "id": "DTaTttRLTMLy"
      },
      "execution_count": null,
      "outputs": []
    }
  ]
}