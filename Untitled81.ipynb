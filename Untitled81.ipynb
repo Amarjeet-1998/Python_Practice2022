{
  "nbformat": 4,
  "nbformat_minor": 0,
  "metadata": {
    "colab": {
      "provenance": [],
      "authorship_tag": "ABX9TyO3R9si1RSP68VNSx4JoCZB",
      "include_colab_link": true
    },
    "kernelspec": {
      "name": "python3",
      "display_name": "Python 3"
    },
    "language_info": {
      "name": "python"
    }
  },
  "cells": [
    {
      "cell_type": "markdown",
      "metadata": {
        "id": "view-in-github",
        "colab_type": "text"
      },
      "source": [
        "<a href=\"https://colab.research.google.com/github/Amarjeet-1998/Python_Practice2022/blob/main/Untitled81.ipynb\" target=\"_parent\"><img src=\"https://colab.research.google.com/assets/colab-badge.svg\" alt=\"Open In Colab\"/></a>"
      ]
    },
    {
      "cell_type": "code",
      "execution_count": 4,
      "metadata": {
        "colab": {
          "base_uri": "https://localhost:8080/"
        },
        "id": "wZvfST7PM9yy",
        "outputId": "ecdfe8e8-ed1a-455f-aece-7e1086f63a51"
      },
      "outputs": [
        {
          "output_type": "stream",
          "name": "stdout",
          "text": [
            "The square-root of the number is 3.1622776601683795\n"
          ]
        }
      ],
      "source": [
        "# Division and square-root\n",
        "\n",
        "def divide_or_square(number):\n",
        "  if number % 5 == 0:\n",
        "    sq_root = number ** 0.5\n",
        "    return (f'The square-root of the number is {sq_root}')\n",
        "  else:\n",
        "    remainder = number % 5\n",
        "    return(f\"The remainder of the division is {remainder}\")\n",
        "print(divide_or_square(10))"
      ]
    },
    {
      "cell_type": "code",
      "source": [
        "def longest_value(d:dict):\n",
        "  #using max and key len to get the longest value\n",
        "  longest = max(d.values(), key=len)\n",
        "  return longest\n",
        "\n",
        "fruits = {'fruit': 'apple', 'color':'green'}\n",
        "print(longest_value(fruits))"
      ],
      "metadata": {
        "colab": {
          "base_uri": "https://localhost:8080/"
        },
        "id": "50rqUnRYOT6e",
        "outputId": "a19e7eca-ef11-40a7-d5ff-d4b9c1c3f888"
      },
      "execution_count": 5,
      "outputs": [
        {
          "output_type": "stream",
          "name": "stdout",
          "text": [
            "apple\n"
          ]
        }
      ]
    },
    {
      "cell_type": "code",
      "source": [
        "# Convert the strings in the list into integers\n",
        "\n",
        "def convert_add(list1):\n",
        "  b = []\n",
        "  for i in list1:\n",
        "    b.append(int(i))\n",
        "  return sum(b)\n",
        "print(convert_add(['1','3','5']))"
      ],
      "metadata": {
        "colab": {
          "base_uri": "https://localhost:8080/"
        },
        "id": "ugxCkOoqPFPd",
        "outputId": "016a934d-3f78-40dc-8c1b-87262ccad87a"
      },
      "execution_count": 6,
      "outputs": [
        {
          "output_type": "stream",
          "name": "stdout",
          "text": [
            "9\n"
          ]
        }
      ]
    },
    {
      "cell_type": "code",
      "source": [
        "def convert_add(list1:list):\n",
        "  list2 = []\n",
        "  count = 0\n",
        "  for i in list1:\n",
        "    list2.append(int(i))\n",
        "  for j in list2:\n",
        "    count += j\n",
        "  return count\n",
        "\n",
        "print(convert_add(['1','3','5']))"
      ],
      "metadata": {
        "colab": {
          "base_uri": "https://localhost:8080/"
        },
        "id": "oXQ2Gh9fPlRO",
        "outputId": "e2eda017-1f3f-4cf4-cf99-9f1f3ede507b"
      },
      "execution_count": 10,
      "outputs": [
        {
          "output_type": "stream",
          "name": "stdout",
          "text": [
            "9\n"
          ]
        }
      ]
    },
    {
      "cell_type": "code",
      "source": [
        "# Duplicate Names\n",
        "def check_duplicates(arr: list):\n",
        "  for item in arr:\n",
        "    #using count to find items more than one\n",
        "    if arr.count(item) > 1:\n",
        "      return item\n",
        "    else:\n",
        "      return 'No duplicates'\n",
        "#lists\n",
        "fruits = ['apple','orange','banana','apple']\n",
        "names = ['Yoda','Morse','Joshua','Mark']\n",
        "\n",
        "print(check_duplicates(fruits))\n",
        "print(check_duplicates(names))"
      ],
      "metadata": {
        "colab": {
          "base_uri": "https://localhost:8080/"
        },
        "id": "lnYrGA7PRH-i",
        "outputId": "56c42f30-71a5-4f93-97fa-5a164aa83ca0"
      },
      "execution_count": 11,
      "outputs": [
        {
          "output_type": "stream",
          "name": "stdout",
          "text": [
            "apple\n",
            "No duplicates\n"
          ]
        }
      ]
    },
    {
      "cell_type": "code",
      "source": [
        "#Register check\n",
        "register = {'Michael':'yes','John':'no',\n",
        "            'Peter':'yes','Mary':'yes'}\n",
        "          \n",
        "def register_check(reg: dict):\n",
        "  #create a count variable\n",
        "  count=0\n",
        "  for value in reg.values():\n",
        "    if value == 'yes':\n",
        "      count += 1\n",
        "  return ('Number of students in school is', count)\n",
        "\n",
        "print(register_check(register))\n"
      ],
      "metadata": {
        "colab": {
          "base_uri": "https://localhost:8080/"
        },
        "id": "FiwD5pTeTsfb",
        "outputId": "ac606525-c886-4d05-a8df-4b016ee66cce"
      },
      "execution_count": 13,
      "outputs": [
        {
          "output_type": "stream",
          "name": "stdout",
          "text": [
            "('Number of students in school is', 3)\n"
          ]
        }
      ]
    },
    {
      "cell_type": "code",
      "source": [
        "register = {'Micheal':'yes','John':'no',\n",
        "            'Peter':'yes','Mary':'yes'}\n",
        "def register_check(reg: dict):\n",
        "  count = 0\n",
        "  for value, key in reg.items():\n",
        "    if value == 'yes':\n",
        "      count += 1\n",
        "  return ('Number of students in school is', count)\n",
        "\n",
        "print(register_check(register))"
      ],
      "metadata": {
        "colab": {
          "base_uri": "https://localhost:8080/"
        },
        "id": "Hyx7g3hJVCiy",
        "outputId": "42729c43-15ac-49ee-90b8-186d7c13c717"
      },
      "execution_count": 18,
      "outputs": [
        {
          "output_type": "stream",
          "name": "stdout",
          "text": [
            "('Number of students in school is', 0)\n"
          ]
        }
      ]
    },
    {
      "cell_type": "code",
      "source": [
        "#lower case name\n",
        "\n",
        "names = ['kerry','dickson','John','Mary',\n",
        "         'carol','Rose','adam']\n",
        "#creating an empty list\n",
        "d = []\n",
        "#using sorted function to sort lists in descending order\n",
        "for name in sorted(names, reverse = True):\n",
        "  if name.islower():\n",
        "    d.append(name)\n",
        "    tuple_names = tuple(d)\n",
        "print(tuple_names)\n"
      ],
      "metadata": {
        "colab": {
          "base_uri": "https://localhost:8080/"
        },
        "id": "qybOiU8jVr84",
        "outputId": "e939899f-4f7b-4078-8dc6-3e56b7aec6f3"
      },
      "execution_count": 19,
      "outputs": [
        {
          "output_type": "stream",
          "name": "stdout",
          "text": [
            "('kerry', 'dickson', 'carol', 'adam')\n"
          ]
        }
      ]
    },
    {
      "cell_type": "code",
      "source": [
        "# day 4\n",
        "\n",
        "def only_float(a,b):\n",
        "  if type(a) == float and type(b) == float:\n",
        "    return 2\n",
        "  elif type(a) == float or type(b) == float:\n",
        "    return 1\n",
        "  else:\n",
        "    return 0\n",
        "\n",
        "print(only_float(12.1, 23))"
      ],
      "metadata": {
        "colab": {
          "base_uri": "https://localhost:8080/"
        },
        "id": "cYeR1rUOW9-G",
        "outputId": "66f94529-fb6e-43ee-de06-2c04042a5819"
      },
      "execution_count": 1,
      "outputs": [
        {
          "output_type": "stream",
          "name": "stdout",
          "text": [
            "1\n"
          ]
        }
      ]
    },
    {
      "cell_type": "code",
      "source": [
        "# Index of the longest word\n",
        "\n",
        "def word_index(arr: list):\n",
        "  for word in arr:\n",
        "    for j in range(len(arr) - 1):\n",
        "      #checking if the lengths of all the words are equal\n",
        "      if len(arr[j]) == len(arr[j + 1]):\n",
        "        return 0\n",
        "      #using len function and max to find the longest word\n",
        "      elif len(word) == len(max(arr)):\n",
        "        #using list method index to find\n",
        "        #index of the longest word\n",
        "        return (f'The longest word is at index: {arr.index(word)}')\n",
        "\n",
        "words1 = [\"Hate\", \"remorse\",\"vengeance\"]\n",
        "words2 = [\"Love\",\"Hate\"]\n",
        "print(word_index(words1))\n",
        "print(word_index(words2))"
      ],
      "metadata": {
        "colab": {
          "base_uri": "https://localhost:8080/"
        },
        "id": "fLW-TeagvaHu",
        "outputId": "9afb0d8a-cde9-460a-c94e-267d5e939224"
      },
      "execution_count": 2,
      "outputs": [
        {
          "output_type": "stream",
          "name": "stdout",
          "text": [
            "The longest word is at index: 2\n",
            "0\n"
          ]
        }
      ]
    },
    {
      "cell_type": "code",
      "source": [
        "# Day 5\n",
        "#calculate the discount\n",
        "\n",
        "def my_discount():\n",
        "  price = int(input(\"Enter the price: \"))\n",
        "  discount = int(input(\"Enter the discount: \"))\n",
        "  aft_dsc = price * (100-discount)/100\n",
        "  return('Price after discount is', aft_dsc)\n",
        "\n",
        "print(my_discount())"
      ],
      "metadata": {
        "colab": {
          "base_uri": "https://localhost:8080/"
        },
        "id": "9Dlt8F48wkl9",
        "outputId": "759edae7-35e0-4ec2-df0b-67bb4b531575"
      },
      "execution_count": 3,
      "outputs": [
        {
          "output_type": "stream",
          "name": "stdout",
          "text": [
            "Enter the price: 100\n",
            "Enter the discount: 23\n",
            "('Price after discount is', 77.0)\n"
          ]
        }
      ]
    },
    {
      "cell_type": "code",
      "source": [
        "# Tuple of student sex\n",
        "\n",
        "students = ['Male','female','female','male','male','male','female',\n",
        "            'female','male','female','male','female','male','female']\n",
        "\n",
        "def count_students(arr: list) -> list:\n",
        "  #create an empty list to append lowercase strings\n",
        "  new_list = []\n",
        "  student_count = []\n",
        "  #converting names to lowercase\n",
        "  #and appending to new_list\n",
        "  for names in students:\n",
        "    new_list.append(names.lower())\n",
        "  #finding and counting all males in the\n",
        "  #list and putting it in a tuple\n",
        "  for sex in new_list:\n",
        "    if sex == 'male':\n",
        "      student_count.append((sex, new_list.count(sex)))\n",
        "      break\n",
        "  # Finding and counting all females in the \n",
        "  #list and putting it in a tuple\n",
        "  for j in new_list:\n",
        "    if j == 'female':\n",
        "      student_count.append((j, new_list.count(j)))\n",
        "      break\n",
        "      #returning a tuple of students\n",
        "  return student_count\n",
        "\n",
        "print(count_students(students))"
      ],
      "metadata": {
        "colab": {
          "base_uri": "https://localhost:8080/"
        },
        "id": "7E5S4jBexKqr",
        "outputId": "877627d6-20a6-4e96-c853-6e1eda138a1c"
      },
      "execution_count": 4,
      "outputs": [
        {
          "output_type": "stream",
          "name": "stdout",
          "text": [
            "[('male', 7), ('female', 7)]\n"
          ]
        }
      ]
    },
    {
      "cell_type": "code",
      "source": [
        "# Day 6\n",
        "\n",
        "def user_name():\n",
        "  your_email = input(\"Enter your email\")\n",
        "  user_name = your_email.split('@')[0]\n",
        "  return (f'You user name is {user_name}')\n",
        "\n",
        "print(user_name())\n"
      ],
      "metadata": {
        "colab": {
          "base_uri": "https://localhost:8080/"
        },
        "id": "EkUOKU3Iys-p",
        "outputId": "75aee447-8ff3-4785-eb63-3fa6c335e288"
      },
      "execution_count": 6,
      "outputs": [
        {
          "output_type": "stream",
          "name": "stdout",
          "text": [
            "Enter your emailamarjeet214690@gmail.com\n",
            "You user name is amarjeet214690\n"
          ]
        }
      ]
    },
    {
      "cell_type": "code",
      "source": [
        "# zero both ends\n",
        "list1 = [2,5,7,8,9]\n",
        "\n",
        "def zeroed(arr: list) -> list:\n",
        "  #Access and modify the first element\n",
        "  arr[0] = 0\n",
        "  #Access and modify the last element\n",
        "  arr[-1] = 0\n",
        "  return arr\n",
        "\n",
        "print(zeroed(list1))"
      ],
      "metadata": {
        "colab": {
          "base_uri": "https://localhost:8080/"
        },
        "id": "9CnEmdiWzJKN",
        "outputId": "daa429a6-a64c-4630-cd5c-a2b3fbe8e921"
      },
      "execution_count": 7,
      "outputs": [
        {
          "output_type": "stream",
          "name": "stdout",
          "text": [
            "[0, 5, 7, 8, 0]\n"
          ]
        }
      ]
    },
    {
      "cell_type": "code",
      "source": [
        "# Day 7\n",
        "\n",
        "def string_range(num: int):\n",
        "  x = [str(i) for i in range(num)]\n",
        "  #using join method to add dots\n",
        "  x = \".\".join(x)\n",
        "  return x\n",
        "print(string_range(6))"
      ],
      "metadata": {
        "colab": {
          "base_uri": "https://localhost:8080/"
        },
        "id": "1Rw7lCRTzzei",
        "outputId": "6004bfe9-0d4b-4afb-fd4c-072eecde5172"
      },
      "execution_count": 8,
      "outputs": [
        {
          "output_type": "stream",
          "name": "stdout",
          "text": [
            "0.1.2.3.4.5\n"
          ]
        }
      ]
    },
    {
      "cell_type": "code",
      "source": [
        "#Dictionary of names\n",
        "\n",
        "names = ['Joseph','Nathan','Sasha','Kelly',\n",
        "         'Muhammad','Jabulani','Sera','Patel','Sera']\n",
        "\n",
        "d = {} # creating an empty dictionary\n",
        "for name in names:\n",
        "  if name.startswith(\"S\")\n",
        "  #using the dictionary update method\n",
        "  d.update({name: names.count(name)})\n",
        "\n",
        "print(d)"
      ],
      "metadata": {
        "colab": {
          "base_uri": "https://localhost:8080/",
          "height": 130
        },
        "id": "kygV9RzB0Kl-",
        "outputId": "cc45bd54-f387-41e3-cbe6-073e212cf5a4"
      },
      "execution_count": 12,
      "outputs": [
        {
          "output_type": "error",
          "ename": "SyntaxError",
          "evalue": "ignored",
          "traceback": [
            "\u001b[0;36m  File \u001b[0;32m\"<ipython-input-12-87475dc1ca84>\"\u001b[0;36m, line \u001b[0;32m8\u001b[0m\n\u001b[0;31m    if name.startswith(\"S\")\u001b[0m\n\u001b[0m                           ^\u001b[0m\n\u001b[0;31mSyntaxError\u001b[0m\u001b[0;31m:\u001b[0m invalid syntax\n"
          ]
        }
      ]
    },
    {
      "cell_type": "code",
      "source": [
        "from collections import Counter\n",
        "\n",
        "names = ['Joseph','Nathan','Sasha','Kelly',\n",
        "         'Muhammad','Jabulani','Sera','Patel','Sera']\n",
        "count = []\n",
        "for name in names:\n",
        "  if name.startswith('S'):\n",
        "  #Appending names that start with S to the list\n",
        "    count.append(name)\n",
        "  #using the counter method to return a dictionary\n",
        "  names = Counter(count)\n",
        "print(names)"
      ],
      "metadata": {
        "colab": {
          "base_uri": "https://localhost:8080/"
        },
        "id": "Ddnq-XIk119w",
        "outputId": "6be73842-216b-442e-f52f-16d5b9805efe"
      },
      "execution_count": 15,
      "outputs": [
        {
          "output_type": "stream",
          "name": "stdout",
          "text": [
            "Counter({'Sera': 2, 'Sasha': 1})\n"
          ]
        }
      ]
    },
    {
      "cell_type": "code",
      "source": [
        "# Day 8\n",
        "\n",
        "def odd_even(a):\n",
        "  even = []\n",
        "  odd = []\n",
        "  for i in a:\n",
        "    if i % 2 == 0:\n",
        "      even.append(i)\n",
        "    if i % 2 != 0:\n",
        "      odd.append(i)\n",
        "  return max(even) - min(odd)\n",
        "print(odd_even([1,2,4,6]))"
      ],
      "metadata": {
        "colab": {
          "base_uri": "https://localhost:8080/"
        },
        "id": "i7ZSFunb2jJS",
        "outputId": "365c9cf9-cb3f-48d8-e33e-604bd9a31a67"
      },
      "execution_count": 16,
      "outputs": [
        {
          "output_type": "stream",
          "name": "stdout",
          "text": [
            "5\n"
          ]
        }
      ]
    },
    {
      "cell_type": "code",
      "source": [
        "# List of Prime Numbers\n",
        "\n",
        "def prime_numbers() -> list:\n",
        "  prime_num = []\n",
        "  n = int(input('Please enter a number (interger): '))\n",
        "  #creating a range of the input number\n",
        "  #remember to add a 1 and the end ensure\n",
        "  # all numbers in the range are covered\n",
        "  for i in range(0, n + 1):\n",
        "    #only numbers above 1 are needed\n",
        "    if i > 1:\n",
        "      for j in range(2, i):\n",
        "        #if a number in the range is divisible by j\n",
        "        # then number is not prime\n",
        "        if i % j == 0:\n",
        "          break\n",
        "        else:\n",
        "          prime_num.append(i)\n",
        "\n",
        "\n",
        "    return prime_num\n",
        "print(prime_numbers())\n",
        "      "
      ],
      "metadata": {
        "colab": {
          "base_uri": "https://localhost:8080/"
        },
        "id": "HzwYIs333OUr",
        "outputId": "6861fc00-e317-46f6-e5a9-320a08f7a0e3"
      },
      "execution_count": 21,
      "outputs": [
        {
          "output_type": "stream",
          "name": "stdout",
          "text": [
            "Please enter a number (interger): 34\n",
            "[]\n"
          ]
        }
      ]
    },
    {
      "cell_type": "code",
      "source": [
        "#day 9\n",
        "def biggest_odd(string1: str):\n",
        "  odd_nums = [i for i in string1 if int(i) % 2 != 0]\n",
        "  return(f'The biggest old number is {max(odd_nums)}')\n",
        "\n",
        "print(biggest_odd('23569'))"
      ],
      "metadata": {
        "colab": {
          "base_uri": "https://localhost:8080/"
        },
        "id": "n-2jLSNr4WZD",
        "outputId": "807d2d79-8284-41f3-c826-4ae4b5fb8aed"
      },
      "execution_count": 22,
      "outputs": [
        {
          "output_type": "stream",
          "name": "stdout",
          "text": [
            "The biggest old number is 9\n"
          ]
        }
      ]
    },
    {
      "cell_type": "code",
      "source": [
        "# Zeros to the end\n",
        "\n",
        "def zeros_last(arr: list) -> list:\n",
        "  i = 0 # setting index 0\n",
        "  arr1 = arr\n",
        "  for num in arr:\n",
        "    #checking for non-zero numbers\n",
        "    if num != 0:\n",
        "      #Moving non-zero numbers to the front of the list\n",
        "      arr[i] = num\n",
        "      i += 1\n",
        "\n",
        "# Moving zero elements to the end of the list.\n",
        "  while i < len(arr):\n",
        "    arr[i] = 0\n",
        "    i += 1\n",
        "    return arr\n",
        "  else:\n",
        "    #if no zeros return original list in ascending order\n",
        "    return sorted(arr1)\n",
        "\n",
        "list1 = [1,4,6,0,7,0]\n",
        "list2 = [2,1,4,7,6]\n",
        "\n",
        "print(zeros_last(list1))\n",
        "print(zeros_last(list2))"
      ],
      "metadata": {
        "colab": {
          "base_uri": "https://localhost:8080/"
        },
        "id": "r1ki4REA5A3M",
        "outputId": "10262082-501b-4035-a941-8a9eacaf2e3c"
      },
      "execution_count": 23,
      "outputs": [
        {
          "output_type": "stream",
          "name": "stdout",
          "text": [
            "[1, 4, 6, 7, 0, 0]\n",
            "[1, 2, 4, 6, 7]\n"
          ]
        }
      ]
    },
    {
      "cell_type": "code",
      "source": [
        "# day 10\n",
        "def your_password():\n",
        "  password1 = input('Enter password')\n",
        "  password = len(password1) * '*'\n",
        "  return (f'You password is {password}'\\\n",
        "          f'and its {len(password)} characters long')\n",
        "\n",
        "print(your_password())"
      ],
      "metadata": {
        "colab": {
          "base_uri": "https://localhost:8080/"
        },
        "id": "acqitu206G66",
        "outputId": "9f100cd4-b850-4790-ea20-07ddeafd4d26"
      },
      "execution_count": 24,
      "outputs": [
        {
          "output_type": "stream",
          "name": "stdout",
          "text": [
            "Enter password1234swe\n",
            "You password is *******and its 7 characters long\n"
          ]
        }
      ]
    },
    {
      "cell_type": "code",
      "source": [
        "# Thousand separator\n",
        "\n",
        "def convert_numbers(n):\n",
        "  new_list = []\n",
        "  for num in n:\n",
        "    new_list.append(\"{:,}\".format(num))\n",
        "  return new_list\n",
        "\n",
        "print(convert_numbers([100000, 2356789, 234556789]))"
      ],
      "metadata": {
        "colab": {
          "base_uri": "https://localhost:8080/"
        },
        "id": "i4PsOWYE6sq9",
        "outputId": "c1d94952-4224-4775-f42f-eb20bf09c5b1"
      },
      "execution_count": 25,
      "outputs": [
        {
          "output_type": "stream",
          "name": "stdout",
          "text": [
            "['100,000', '2,356,789', '234,556,789']\n"
          ]
        }
      ]
    },
    {
      "cell_type": "code",
      "source": [
        "# day 11\n",
        "\n",
        "def equal_strings(st1, st2):\n",
        "  str1 = sorted(st1)\n",
        "  str2 = sorted(st2)\n",
        "  if str1 == str2:\n",
        "    return True\n",
        "  else:\n",
        "    return False\n",
        "\n",
        "print(equal_strings('love','evol'))"
      ],
      "metadata": {
        "colab": {
          "base_uri": "https://localhost:8080/"
        },
        "id": "T8qLD_7C7XSw",
        "outputId": "5778f691-3a02-4eb7-f3f4-ff7d2174f7d9"
      },
      "execution_count": 26,
      "outputs": [
        {
          "output_type": "stream",
          "name": "stdout",
          "text": [
            "True\n"
          ]
        }
      ]
    },
    {
      "cell_type": "code",
      "source": [
        "# swap values\n",
        "\n",
        "def swap_values(arr: list):\n",
        "  # create a variable for first number\n",
        "  first_number = arr[0]\n",
        "  #create a second variable for the last number\n",
        "  last_number = arr[-1]\n",
        "  #assign last number to index 1\n",
        "  arr[0] = last_number\n",
        "  #assign first number to index -1\n",
        "  arr[-1] = first_number\n",
        "  return arr\n",
        "list1 =[2, 4, 67, 7]\n",
        "print(swap_values(list1))"
      ],
      "metadata": {
        "colab": {
          "base_uri": "https://localhost:8080/"
        },
        "id": "qns-FTA77MKw",
        "outputId": "b6ddc352-cf54-4bbb-9857-4718490cd4fb"
      },
      "execution_count": 27,
      "outputs": [
        {
          "output_type": "stream",
          "name": "stdout",
          "text": [
            "[7, 4, 67, 2]\n"
          ]
        }
      ]
    },
    {
      "cell_type": "code",
      "source": [
        "# day 12\n",
        "def count_dots(word):\n",
        "  m = word.split(\".\")\n",
        "  return (f'The string has {len(m) -1} dots')\n",
        "\n",
        "print(count_dots(\"h.e.l.p.\"))"
      ],
      "metadata": {
        "colab": {
          "base_uri": "https://localhost:8080/"
        },
        "id": "zB93zLQk8ZsJ",
        "outputId": "288dd551-b274-4c96-da71-ea949ccefd28"
      },
      "execution_count": 28,
      "outputs": [
        {
          "output_type": "stream",
          "name": "stdout",
          "text": [
            "The string has 4 dots\n"
          ]
        }
      ]
    },
    {
      "cell_type": "code",
      "source": [
        "# your age in minutes\n",
        "\n",
        "from datetime import datetime\n",
        "\n",
        "def your_age():\n",
        "  while True:\n",
        "    birth_year = input(\"Enter your year of birth: \")\n",
        "    if len(birth_year) != 4:\n",
        "      print('Please enter a four digits year')\n",
        "    elif int(birth_year) < 1900 or int(birth_year) > 2022:\n",
        "      print('Please enter a valid year')\n",
        "    else:\n",
        "      #This returns the current year\n",
        "      now1 = int(datetime.now().strftime(\"%Y\"))\n",
        "      age = (now1 - int(birth_year)) * 525600\n",
        "      return (f'You are {age:,} minutes old.')\n",
        "print(your_age())"
      ],
      "metadata": {
        "colab": {
          "base_uri": "https://localhost:8080/"
        },
        "id": "uefTsemk82Zt",
        "outputId": "cc535dfc-de2d-41c0-998a-643ad59f62ce"
      },
      "execution_count": 30,
      "outputs": [
        {
          "output_type": "stream",
          "name": "stdout",
          "text": [
            "Enter your year of birth: 1998\n",
            "You are 12,614,400 minutes old.\n"
          ]
        }
      ]
    },
    {
      "cell_type": "code",
      "source": [],
      "metadata": {
        "id": "gbUL1JoK-BXq"
      },
      "execution_count": null,
      "outputs": []
    }
  ]
}