{
  "nbformat": 4,
  "nbformat_minor": 0,
  "metadata": {
    "colab": {
      "provenance": [],
      "collapsed_sections": [],
      "authorship_tag": "ABX9TyPEgLke305orNMHozj0CfCu",
      "include_colab_link": true
    },
    "kernelspec": {
      "name": "python3",
      "display_name": "Python 3"
    },
    "language_info": {
      "name": "python"
    }
  },
  "cells": [
    {
      "cell_type": "markdown",
      "metadata": {
        "id": "view-in-github",
        "colab_type": "text"
      },
      "source": [
        "<a href=\"https://colab.research.google.com/github/Amarjeet-1998/Python_Practice2022/blob/main/Python03%20Nov.ipynb\" target=\"_parent\"><img src=\"https://colab.research.google.com/assets/colab-badge.svg\" alt=\"Open In Colab\"/></a>"
      ]
    },
    {
      "cell_type": "code",
      "execution_count": 7,
      "metadata": {
        "colab": {
          "base_uri": "https://localhost:8080/"
        },
        "id": "rK2m05ARYt-Z",
        "outputId": "4d08d450-a070-4454-fd3d-46460680eb23"
      },
      "outputs": [
        {
          "output_type": "stream",
          "name": "stdout",
          "text": [
            "*****\n",
            "*\n",
            "*****\n",
            "*\n",
            "*\n"
          ]
        }
      ],
      "source": [
        "star = '*'\n",
        "\n",
        "for i in range(1,7):\n",
        "  for j in range(1,6):\n",
        "    if i ==1 and j < 6:\n",
        "      print(star, end='')\n",
        "    elif i == 2 and j == 1:\n",
        "      print()\n",
        "      print(star)\n",
        "    elif i == 3 and j < 5:\n",
        "      print(star, end ='')\n",
        "    elif i == 4 and j == 1:\n",
        "      print(star)\n",
        "    elif i == 5 and j == 1:\n",
        "      print(star)\n",
        "    elif i == 6 and j == 1:\n",
        "      print(star)\n"
      ]
    },
    {
      "cell_type": "code",
      "source": [
        "n = 100\n",
        "\n",
        "evens = []\n",
        "odds = []\n",
        "\n",
        "for i in range(n+1):\n",
        "  if not i % 2:\n",
        "    evens.append(i)\n",
        "  else:\n",
        "    odds.append(i)\n",
        "\n",
        "print(f'The evens are {evens}')\n",
        "print(f'The odds are {odds}')"
      ],
      "metadata": {
        "colab": {
          "base_uri": "https://localhost:8080/"
        },
        "id": "wuttSOkhZAbh",
        "outputId": "538c1eae-5564-4a03-dea5-92dc4dc03bd4"
      },
      "execution_count": 15,
      "outputs": [
        {
          "output_type": "stream",
          "name": "stdout",
          "text": [
            "The evens are [0, 2, 4, 6, 8, 10, 12, 14, 16, 18, 20, 22, 24, 26, 28, 30, 32, 34, 36, 38, 40, 42, 44, 46, 48, 50, 52, 54, 56, 58, 60, 62, 64, 66, 68, 70, 72, 74, 76, 78, 80, 82, 84, 86, 88, 90, 92, 94, 96, 98, 100]\n",
            "The odds are [1, 3, 5, 7, 9, 11, 13, 15, 17, 19, 21, 23, 25, 27, 29, 31, 33, 35, 37, 39, 41, 43, 45, 47, 49, 51, 53, 55, 57, 59, 61, 63, 65, 67, 69, 71, 73, 75, 77, 79, 81, 83, 85, 87, 89, 91, 93, 95, 97, 99]\n"
          ]
        }
      ]
    },
    {
      "cell_type": "code",
      "source": [
        "import math\n",
        "print(math.pi)"
      ],
      "metadata": {
        "colab": {
          "base_uri": "https://localhost:8080/"
        },
        "id": "zW5mBYOqbeOv",
        "outputId": "b4e6ba98-753e-45ed-bd3e-c07c141f69fb"
      },
      "execution_count": 16,
      "outputs": [
        {
          "output_type": "stream",
          "name": "stdout",
          "text": [
            "3.141592653589793\n"
          ]
        }
      ]
    },
    {
      "cell_type": "code",
      "source": [
        "import random\n",
        "\n",
        "print(random.randint(1,100))"
      ],
      "metadata": {
        "colab": {
          "base_uri": "https://localhost:8080/"
        },
        "id": "uObwaUFeclo5",
        "outputId": "51ef84be-1739-4e6e-bb05-ff9eba1c346f"
      },
      "execution_count": 17,
      "outputs": [
        {
          "output_type": "stream",
          "name": "stdout",
          "text": [
            "40\n"
          ]
        }
      ]
    },
    {
      "cell_type": "code",
      "source": [],
      "metadata": {
        "id": "Hj_13Innnis8"
      },
      "execution_count": null,
      "outputs": []
    }
  ]
}