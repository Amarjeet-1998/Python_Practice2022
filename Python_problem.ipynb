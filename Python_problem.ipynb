{
  "nbformat": 4,
  "nbformat_minor": 0,
  "metadata": {
    "colab": {
      "provenance": [],
      "authorship_tag": "ABX9TyPFdr4zv66SbAIq37OwjQoO",
      "include_colab_link": true
    },
    "kernelspec": {
      "name": "python3",
      "display_name": "Python 3"
    },
    "language_info": {
      "name": "python"
    }
  },
  "cells": [
    {
      "cell_type": "markdown",
      "metadata": {
        "id": "view-in-github",
        "colab_type": "text"
      },
      "source": [
        "<a href=\"https://colab.research.google.com/github/Amarjeet-1998/Python_Practice2022/blob/main/Python_problem.ipynb\" target=\"_parent\"><img src=\"https://colab.research.google.com/assets/colab-badge.svg\" alt=\"Open In Colab\"/></a>"
      ]
    },
    {
      "cell_type": "markdown",
      "source": [
        "Day 1: Division and Square-root\n",
        "Write a function called divide_or_square that takes one\n",
        "argument (a number), and returns the square root of the number\n",
        "if it is divisible by 5, returns its remainder if it is not divisible by\n",
        "5. For example, if you pass 10 as an argument, then your function\n",
        "should return 3.16 as the square root."
      ],
      "metadata": {
        "id": "-x-OCcgp8QcZ"
      }
    },
    {
      "cell_type": "code",
      "execution_count": 1,
      "metadata": {
        "colab": {
          "base_uri": "https://localhost:8080/"
        },
        "id": "EKSPzyaW8HcM",
        "outputId": "09a1fe9f-dccb-4067-a9f9-eb37f8831802"
      },
      "outputs": [
        {
          "output_type": "stream",
          "name": "stdout",
          "text": [
            "The square-root of the number is 3.1622776601683795\n"
          ]
        }
      ],
      "source": [
        "def divide_or_square(number):\n",
        "  if number % 5 == 0:\n",
        "    sq_root = number ** 0.5\n",
        "    return (f'The square-root of the number is {sq_root}')\n",
        "  else:\n",
        "    remainder = number % 5\n",
        "    return (f'The remainder of the division is {remainder}')\n",
        "print(divide_or_square(10))"
      ]
    },
    {
      "cell_type": "code",
      "source": [
        "def longest_value(d:dict):\n",
        "  #using max and key len to get the longest value\n",
        "  longest = max(d.values(),key= len)\n",
        "  return longest\n",
        "\n",
        "fruits = {'fruit': 'apple', 'color':'green'}\n",
        "print(longest_value(fruits))"
      ],
      "metadata": {
        "colab": {
          "base_uri": "https://localhost:8080/"
        },
        "id": "GYThU3bo_kOm",
        "outputId": "dde9986b-8dab-4875-cb05-273868ab60e0"
      },
      "execution_count": 3,
      "outputs": [
        {
          "output_type": "stream",
          "name": "stdout",
          "text": [
            "apple\n"
          ]
        }
      ]
    },
    {
      "cell_type": "code",
      "source": [
        "def convert_add(list1):\n",
        "  b = []\n",
        "  for i in list1:\n",
        "    b.append(int(i))\n",
        "  return sum(b)\n",
        "\n",
        "print(convert_add(['1','3','5']))"
      ],
      "metadata": {
        "colab": {
          "base_uri": "https://localhost:8080/"
        },
        "id": "rz01mmxLAGaE",
        "outputId": "5e88cb66-c5e6-409b-e2ee-4682b42dd93d"
      },
      "execution_count": 4,
      "outputs": [
        {
          "output_type": "stream",
          "name": "stdout",
          "text": [
            "9\n"
          ]
        }
      ]
    },
    {
      "cell_type": "code",
      "source": [
        "def convert_add(list1:list):\n",
        "  list2 = []\n",
        "  count = 0\n",
        "  for i in list1:\n",
        "    list2.append(int(i))\n",
        "  for j in list2:\n",
        "    count += j\n",
        "  return sum(list2)\n",
        "print(convert_add(['1','3','5']))"
      ],
      "metadata": {
        "colab": {
          "base_uri": "https://localhost:8080/"
        },
        "id": "HghtdU2CAmjC",
        "outputId": "a59d2757-9c82-4fd8-91f6-154e38c528c2"
      },
      "execution_count": 9,
      "outputs": [
        {
          "output_type": "stream",
          "name": "stdout",
          "text": [
            "9\n"
          ]
        }
      ]
    },
    {
      "cell_type": "code",
      "source": [
        "def check_duplicates(arr:list):\n",
        "  for item in arr:\n",
        "    #using count to find items more than one\n",
        "    if arr.count(item) > 1:\n",
        "      return item\n",
        "    else:\n",
        "      return 'No duplicates'\n",
        "\n",
        "#lists\n",
        "fruits = ['apple','orange','banana','apple']\n",
        "names = ['Yoda','Moses','Joshua','Mark']\n",
        "\n",
        "print(check_duplicates(fruits))\n",
        "print(check_duplicates(names))"
      ],
      "metadata": {
        "colab": {
          "base_uri": "https://localhost:8080/"
        },
        "id": "7yQIbpzFBQ-Y",
        "outputId": "3e7a422a-0c70-4e67-c814-1da6d7d7efc6"
      },
      "execution_count": 10,
      "outputs": [
        {
          "output_type": "stream",
          "name": "stdout",
          "text": [
            "apple\n",
            "No duplicates\n"
          ]
        }
      ]
    },
    {
      "cell_type": "code",
      "source": [
        "register = {'Michael':'yes','John':'no',\n",
        "            'Peter':'yes','Mary':'yes'}\n",
        "\n",
        "def register_check(reg: dict):\n",
        "  #create a count variables\n",
        "  count = 0\n",
        "  for value in reg.values():\n",
        "    count += 1\n",
        "  \n",
        "  print('Number of students in school is', count)\n",
        "\n",
        "print(register_check(register))"
      ],
      "metadata": {
        "colab": {
          "base_uri": "https://localhost:8080/"
        },
        "id": "ObdEYIuuCnGv",
        "outputId": "6025601f-8e1f-4691-bdf3-67456bdaae4f"
      },
      "execution_count": 12,
      "outputs": [
        {
          "output_type": "stream",
          "name": "stdout",
          "text": [
            "Number of students in school is 4\n",
            "None\n"
          ]
        }
      ]
    },
    {
      "cell_type": "code",
      "source": [
        "register ={'Michael':'yes','John':'no',\n",
        "           'Peter':'yes','Mary':'yes'}\n",
        "\n",
        "def register_check(reg: dict):\n",
        "  count = 0\n",
        "  for value, key in reg.items():\n",
        "    if value == 'yes':\n",
        "      count += 1\n",
        "    return ('Number of students in school is', count)\n",
        "\n",
        "print(register_check(register))"
      ],
      "metadata": {
        "colab": {
          "base_uri": "https://localhost:8080/"
        },
        "id": "jSTxYajOhneQ",
        "outputId": "027f8937-e8a2-496a-f11a-6d3e2b4cfa73"
      },
      "execution_count": 14,
      "outputs": [
        {
          "output_type": "stream",
          "name": "stdout",
          "text": [
            "('Number of students in school is', 0)\n"
          ]
        }
      ]
    },
    {
      "cell_type": "code",
      "source": [
        "names = ['kerry','dickson','John','Mary','carol','Rose','adam']\n",
        "\n",
        "# creating an empty list\n",
        "d = []\n",
        "#Using sorted function to sort list in descending order\n",
        "for name in sorted(names, reverse = True):\n",
        "  if name.islower():\n",
        "    d.append(name)\n",
        "    tuple_names = tuple(d)\n",
        "\n",
        "print(tuple_names)\n"
      ],
      "metadata": {
        "colab": {
          "base_uri": "https://localhost:8080/"
        },
        "id": "YwRclrZbidPh",
        "outputId": "ed07ea1e-15ff-4f11-bcd8-81566671f5a0"
      },
      "execution_count": 16,
      "outputs": [
        {
          "output_type": "stream",
          "name": "stdout",
          "text": [
            "('kerry', 'dickson', 'carol', 'adam')\n"
          ]
        }
      ]
    },
    {
      "cell_type": "code",
      "source": [
        "def only_float(a,b):\n",
        "  if type(a) == float and type(b) == float:\n",
        "    return 2\n",
        "  elif type(a) == float or type(b) == float:\n",
        "    return 1\n",
        "  else:\n",
        "    return 0\n",
        "\n",
        "print(only_float(12.1, 23))"
      ],
      "metadata": {
        "colab": {
          "base_uri": "https://localhost:8080/"
        },
        "id": "7Qiqp30bi5s5",
        "outputId": "d5b335e5-8a60-4f80-804c-39863df3e88f"
      },
      "execution_count": 17,
      "outputs": [
        {
          "output_type": "stream",
          "name": "stdout",
          "text": [
            "1\n"
          ]
        }
      ]
    },
    {
      "cell_type": "code",
      "source": [
        "def word_index(arr:list):\n",
        "  for word in arr:\n",
        "    for j in range(len(arr) - 1):\n",
        "      #checking if the lengths of all the words are equal\n",
        "      if len(arr[j]) == len(arr[j + 1]):\n",
        "        return 0\n",
        "      #Using len function and max to find the longest word\n",
        "      elif len(word) == len(max(arr)):\n",
        "        #using list method index to find\n",
        "        #index of the longest word\n",
        "        return (f'The longest word is at index: {arr.index(word)}')\n",
        "\n",
        "word1 = [\"hate\", 'remorse','vengeance']\n",
        "word2 = ['Love','Hate']\n",
        "print(word_index(word1))\n",
        "print(word_index(word2))"
      ],
      "metadata": {
        "colab": {
          "base_uri": "https://localhost:8080/"
        },
        "id": "PyipbqCTjz1U",
        "outputId": "0fc1beff-cdf1-428b-9d32-fac10c857f33"
      },
      "execution_count": 20,
      "outputs": [
        {
          "output_type": "stream",
          "name": "stdout",
          "text": [
            "The longest word is at index: 2\n",
            "0\n"
          ]
        }
      ]
    },
    {
      "cell_type": "code",
      "source": [
        "def my_discount():\n",
        "  price = int(input('Enter the price: '))\n",
        "  discount = int(input('Enter the discount: '))\n",
        "  aft_dsc = price * (100 - discount) / 100\n",
        "  return ('Price after discount is', aft_dsc)\n",
        "\n",
        "print(my_discount())"
      ],
      "metadata": {
        "colab": {
          "base_uri": "https://localhost:8080/"
        },
        "id": "GRRqy97Dk9De",
        "outputId": "5584fac9-35d3-4235-b7f3-6fb44372c49a"
      },
      "execution_count": 21,
      "outputs": [
        {
          "output_type": "stream",
          "name": "stdout",
          "text": [
            "Enter the price: 40\n",
            "Enter the discount: 10\n",
            "('Price after discount is', 36.0)\n"
          ]
        }
      ]
    },
    {
      "cell_type": "code",
      "source": [
        "students = ['Male', 'Female', 'female', 'male', 'male', 'male',\n",
        "            'female', 'male', 'Female', 'Male', 'Female', 'Male', 'female']\n",
        "\n",
        "def count_students(arr : list) -> list:\n",
        "  #create an empty list to append lowercase strings\n",
        "  new_list = []\n",
        "  student_count = []\n",
        "  #converting names to lowercase\n",
        "  #add appending to new_list\n",
        "  for names in students:\n",
        "    new_list.append(names.lower())\n",
        "    #Finding and counting all males in the \n",
        "    #list and putting it in a tuple\n",
        "\n",
        "    for sex in new_list:\n",
        "      if sex == 'Male':\n",
        "        student_count.append((sex, new_list.count(sex)))\n",
        "        break\n",
        "    # finding and counting all females in the\n",
        "    #list and putting it in a tuple\n",
        "    for j in new_list:\n",
        "      if j == 'female':\n",
        "        student_count.append((j, new_list.count(j)))\n",
        "        break\n",
        "        #returning a tuple of students\n",
        "\n",
        "    return student_count\n",
        "\n",
        "print(count_students(students))\n"
      ],
      "metadata": {
        "colab": {
          "base_uri": "https://localhost:8080/"
        },
        "id": "5qmAOqFplp-D",
        "outputId": "71b48663-bf53-4a1a-aa90-06d1dd78d039"
      },
      "execution_count": 24,
      "outputs": [
        {
          "output_type": "stream",
          "name": "stdout",
          "text": [
            "[]\n"
          ]
        }
      ]
    },
    {
      "cell_type": "code",
      "source": [
        "def user_name ():\n",
        "  your_email = input(\"Enter your email\")\n",
        "  user_name = your_email.split('@')[0]\n",
        "  return (f'Your user name is {user_name}')\n",
        "\n",
        "print(user_name)\n",
        "\n"
      ],
      "metadata": {
        "colab": {
          "base_uri": "https://localhost:8080/"
        },
        "id": "lEy8EHeonQB3",
        "outputId": "97576752-37ef-4d9c-c427-479d9b9e6bb7"
      },
      "execution_count": 27,
      "outputs": [
        {
          "output_type": "stream",
          "name": "stdout",
          "text": [
            "<function user_name at 0x7f8eb2be5320>\n"
          ]
        }
      ]
    },
    {
      "cell_type": "code",
      "source": [
        "list1 = [2,5,7,8,9]\n",
        "\n",
        "def zeroed(arr: list) -> list:\n",
        "  #Access and modify the first element\n",
        "  arr[0] = 0\n",
        "  #Access and modify the last element\n",
        "  arr[-1] = 0\n",
        "  return arr\n",
        "\n",
        "print(zeroed(list1))"
      ],
      "metadata": {
        "colab": {
          "base_uri": "https://localhost:8080/"
        },
        "id": "u_lMycwHoH1G",
        "outputId": "97dd720e-8500-4c4d-9441-ed321fb5e1f8"
      },
      "execution_count": 28,
      "outputs": [
        {
          "output_type": "stream",
          "name": "stdout",
          "text": [
            "[0, 5, 7, 8, 0]\n"
          ]
        }
      ]
    },
    {
      "cell_type": "code",
      "source": [
        "def string_range(num: int):\n",
        "  x = [str(i) for i in range(num)]\n",
        "#using join method to add dots\n",
        "  x = \".\". join(x)\n",
        "  return x\n",
        "\n",
        "print(string_range(6))"
      ],
      "metadata": {
        "colab": {
          "base_uri": "https://localhost:8080/"
        },
        "id": "yuVMAVAwo2hk",
        "outputId": "1db66a66-f758-431f-b910-5d2bbfffe769"
      },
      "execution_count": 30,
      "outputs": [
        {
          "output_type": "stream",
          "name": "stdout",
          "text": [
            "0.1.2.3.4.5\n"
          ]
        }
      ]
    },
    {
      "cell_type": "code",
      "source": [
        "names = [\"Joseph\", \"Nathan\", \"Sasha\", \"Kelly\",\n",
        "        \"Muhammad\", \"Jabulani\", \"Sera\", \"Patel\", \"Sera\"]\n",
        "\n",
        "d = {}\n",
        "for name in names:\n",
        "  if name.startswith('S'):\n",
        "    #using the dictionary update method\n",
        "    d.update({name:names.count(name)})\n",
        "print(d)"
      ],
      "metadata": {
        "colab": {
          "base_uri": "https://localhost:8080/"
        },
        "id": "8eCmoWlVpRfC",
        "outputId": "8ec1b79a-e282-4975-d6b4-07f2cc626cd9"
      },
      "execution_count": 31,
      "outputs": [
        {
          "output_type": "stream",
          "name": "stdout",
          "text": [
            "{'Sasha': 1, 'Sera': 2}\n"
          ]
        }
      ]
    },
    {
      "cell_type": "code",
      "source": [
        "from collections import Counter\n",
        "\n",
        "count = []\n",
        "for name in names:\n",
        "  if name.startswith(\"S\"):\n",
        "    #Appending names that start with S to the list\n",
        "    count.append(name)\n",
        "  names = Counter(count)\n",
        "\n",
        "print(names)"
      ],
      "metadata": {
        "colab": {
          "base_uri": "https://localhost:8080/"
        },
        "id": "Iol-akdSp5pO",
        "outputId": "1448ad81-0d84-4f50-e9c5-4a0d74a9cffd"
      },
      "execution_count": 36,
      "outputs": [
        {
          "output_type": "stream",
          "name": "stdout",
          "text": [
            "Counter()\n"
          ]
        }
      ]
    },
    {
      "cell_type": "code",
      "source": [
        "def odd_even(a):\n",
        "  even = []\n",
        "  odd = []\n",
        "  for i in a:\n",
        "    if i % 2 == 0:\n",
        "      even.append(i)\n",
        "    if i % 2 != 0:\n",
        "      odd.append(i)\n",
        "  return max(even) - min(odd)\n",
        "print(odd_even([1,2,3,4,6,3]))"
      ],
      "metadata": {
        "colab": {
          "base_uri": "https://localhost:8080/"
        },
        "id": "HBSvCF6Tqh-U",
        "outputId": "81a2ed83-2e01-4485-e72a-f39a597db16d"
      },
      "execution_count": 37,
      "outputs": [
        {
          "output_type": "stream",
          "name": "stdout",
          "text": [
            "5\n"
          ]
        }
      ]
    },
    {
      "cell_type": "code",
      "source": [
        "def prime_numbers() -> list:\n",
        "  prime_num = []\n",
        "  n = int(input(\"please enter a number (integer): \"))\n",
        "  #creating a range of the input number\n",
        "  #remember to add a 1 and the end ensure\n",
        "  #all numbers in the range are covered\n",
        "  for i in range(0, n + 1):\n",
        "    #only numbers above 1 are needed\n",
        "    if i > 1:\n",
        "      for j in range(2, i):\n",
        "        #if a number in the range is divisible by j\n",
        "        #then number is not prime\n",
        "        if i % j == 0:\n",
        "          break\n",
        "        else:\n",
        "          prime_num.append(i)\n",
        "  return prime_num\n",
        "\n",
        "print(prime_numbers())"
      ],
      "metadata": {
        "colab": {
          "base_uri": "https://localhost:8080/"
        },
        "id": "niFnIMAhrdb6",
        "outputId": "e424697b-c5f7-4ebd-dc38-2e473f18c957"
      },
      "execution_count": 39,
      "outputs": [
        {
          "output_type": "stream",
          "name": "stdout",
          "text": [
            "please enter a number (integer): 24\n",
            "[3, 5, 5, 5, 7, 7, 7, 7, 7, 9, 11, 11, 11, 11, 11, 11, 11, 11, 11, 13, 13, 13, 13, 13, 13, 13, 13, 13, 13, 13, 15, 17, 17, 17, 17, 17, 17, 17, 17, 17, 17, 17, 17, 17, 17, 17, 19, 19, 19, 19, 19, 19, 19, 19, 19, 19, 19, 19, 19, 19, 19, 19, 19, 21, 23, 23, 23, 23, 23, 23, 23, 23, 23, 23, 23, 23, 23, 23, 23, 23, 23, 23, 23, 23, 23]\n"
          ]
        }
      ]
    },
    {
      "cell_type": "code",
      "source": [
        "def biggest_odd(string1: str):\n",
        "  odd_nums = [i for i in string1 if int(i) % 2 != 0]\n",
        "  return (f'The biggest old number is {max(odd_nums)}')\n",
        "print(biggest_odd('23569'))"
      ],
      "metadata": {
        "colab": {
          "base_uri": "https://localhost:8080/"
        },
        "id": "qp8hqNz_siUS",
        "outputId": "dc1f3bb5-b062-4e8d-81e7-d49b5e349715"
      },
      "execution_count": 40,
      "outputs": [
        {
          "output_type": "stream",
          "name": "stdout",
          "text": [
            "The biggest old number is 9\n"
          ]
        }
      ]
    },
    {
      "cell_type": "code",
      "source": [],
      "metadata": {
        "id": "rxHXR-2BtfSW"
      },
      "execution_count": null,
      "outputs": []
    }
  ]
}