{
  "nbformat": 4,
  "nbformat_minor": 0,
  "metadata": {
    "colab": {
      "provenance": [],
      "authorship_tag": "ABX9TyNRfiej2Ui6nBBNsCY4n5Vp",
      "include_colab_link": true
    },
    "kernelspec": {
      "name": "python3",
      "display_name": "Python 3"
    },
    "language_info": {
      "name": "python"
    }
  },
  "cells": [
    {
      "cell_type": "markdown",
      "metadata": {
        "id": "view-in-github",
        "colab_type": "text"
      },
      "source": [
        "<a href=\"https://colab.research.google.com/github/Amarjeet-1998/Python_Practice2022/blob/main/python_prac1.ipynb\" target=\"_parent\"><img src=\"https://colab.research.google.com/assets/colab-badge.svg\" alt=\"Open In Colab\"/></a>"
      ]
    },
    {
      "cell_type": "code",
      "execution_count": null,
      "metadata": {
        "colab": {
          "base_uri": "https://localhost:8080/"
        },
        "id": "gqpaiyGAVYkk",
        "outputId": "4e4b1053-68db-4075-e3e8-6b65f42932be"
      },
      "outputs": [
        {
          "output_type": "stream",
          "name": "stdout",
          "text": [
            "y = 10, call_counter = 1\n",
            "y = 20, call_counter = 2\n",
            "y = 30, call_counter = 3\n",
            "y = 40, call_counter = 4\n",
            "y = 50, call_counter = 5\n",
            "y = 60, call_counter = 6\n",
            "y = 70, call_counter = 7\n",
            "y = 80, call_counter = 8\n",
            "y = 90, call_counter = 9\n"
          ]
        }
      ],
      "source": [
        "def foo():\n",
        "  call_counter = 0\n",
        "  def bar(y):\n",
        "    nonlocal call_counter\n",
        "    call_counter += 1\n",
        "    return (f'y = {y}, call_counter = {call_counter}')\n",
        "  return bar\n",
        "\n",
        "b = foo()\n",
        "for i in range(10, 100, 10):\n",
        "  print(b(i))"
      ]
    },
    {
      "cell_type": "code",
      "source": [
        "def add(a,b):\n",
        "  return (a + b)\n",
        "def sub(a,b):\n",
        "  return(a - b)\n",
        "def mul(a,b):\n",
        "  return (a*b)\n",
        "def  div(a,b):\n",
        "  return(a/b)\n",
        "def pow(a,b):\n",
        "  return (a** b)\n",
        "def mod(a,b):\n",
        "  return (a % b)\n",
        "def calc(to_solve):\n",
        "  operations = {'+' : add,\n",
        "                \"-\": sub,\n",
        "                '*': mul,\n",
        "                '/': div,\n",
        "                '**': pow,\n",
        "                '%' : mod\n",
        "                } \n",
        "op, first_s, second_s = to_solve.split()\n",
        "first = int(first_s)\n",
        "second = int(second_s)\n",
        "\n",
        "return operations[op] (first, second)"
      ],
      "metadata": {
        "id": "K94Ia_c-Vzap"
      },
      "execution_count": null,
      "outputs": []
    },
    {
      "cell_type": "code",
      "source": [
        "import operator\n",
        "\n",
        "def calc(to_solve):\n",
        "  operations = {'+': operator.add,\n",
        "                '-': operator.sub,\n",
        "                '*': operator.mul,\n",
        "                '/': operator.truediv,\n",
        "                '**': operator.pow,\n",
        "                '%': operator.mod}\n",
        "  op, first_s, second_s = to_solve.split()\n",
        "  first = int(first_s)\n",
        "  second = int(second_s)\n",
        "\n",
        "\n",
        "  return operations [op](first, second)\n",
        "\n",
        "print(calc('+ 2 3'))"
      ],
      "metadata": {
        "colab": {
          "base_uri": "https://localhost:8080/"
        },
        "id": "eJDN7jPdXZzY",
        "outputId": "209c7f46-5def-43fc-f055-f25cdb3fea52"
      },
      "execution_count": null,
      "outputs": [
        {
          "output_type": "stream",
          "name": "stdout",
          "text": [
            "5\n"
          ]
        }
      ]
    },
    {
      "cell_type": "code",
      "source": [
        "def divide_or_square(number):\n",
        "  if number % 5 == 0:\n",
        "    sq_root = number ** 0.5\n",
        "    return(f'The square-root of the number is {sq_root}')\n",
        "  else:\n",
        "    remainder = number % 5\n",
        "    return(f'The remainder of the division is {remainder}')\n",
        "\n",
        "print(divide_or_square(10))"
      ],
      "metadata": {
        "id": "LRFDkyFAY1s_",
        "colab": {
          "base_uri": "https://localhost:8080/"
        },
        "outputId": "914d7902-d684-4417-9c55-4e4254423dbc"
      },
      "execution_count": 3,
      "outputs": [
        {
          "output_type": "stream",
          "name": "stdout",
          "text": [
            "The square-root of the number is 3.1622776601683795\n"
          ]
        }
      ]
    },
    {
      "cell_type": "code",
      "source": [
        "def longest_value(d: dict):\n",
        "  #using max and key len to get the longest value\n",
        "  longest = max(d.values(), key = len)\n",
        "  return longest\n",
        "\n",
        "fruits = {'fruit': 'apple', 'color':'green'}\n",
        "print(longest_value(fruits))"
      ],
      "metadata": {
        "colab": {
          "base_uri": "https://localhost:8080/"
        },
        "id": "yVbGe7-daxSH",
        "outputId": "7976de16-9372-4622-ae66-4f9bce0cf671"
      },
      "execution_count": 4,
      "outputs": [
        {
          "output_type": "stream",
          "name": "stdout",
          "text": [
            "apple\n"
          ]
        }
      ]
    },
    {
      "cell_type": "code",
      "source": [
        "def convert_add(list1):\n",
        "  b = []\n",
        "  for i in list1:\n",
        "    b.append(int(i))\n",
        "  return sum(b)\n",
        "print(convert_add(['1','3','5']))"
      ],
      "metadata": {
        "colab": {
          "base_uri": "https://localhost:8080/"
        },
        "id": "yM86c_K0bxj9",
        "outputId": "50513405-f577-4fe3-87d3-08a03d692481"
      },
      "execution_count": 5,
      "outputs": [
        {
          "output_type": "stream",
          "name": "stdout",
          "text": [
            "9\n"
          ]
        }
      ]
    },
    {
      "cell_type": "code",
      "source": [
        "def convert_add(list1:list):\n",
        "  list2 = []\n",
        "  count = 0\n",
        "  for i in list1:\n",
        "    list2.append(int(i))\n",
        "  for j in list2:\n",
        "    count += j\n",
        "  return list2\n",
        "\n",
        "print(convert_add(['1','3','5']))"
      ],
      "metadata": {
        "colab": {
          "base_uri": "https://localhost:8080/"
        },
        "id": "WGDzcNLUcbNb",
        "outputId": "945b1424-aef4-4525-93e8-f7093a30fd47"
      },
      "execution_count": 7,
      "outputs": [
        {
          "output_type": "stream",
          "name": "stdout",
          "text": [
            "[1, 3, 5]\n"
          ]
        }
      ]
    },
    {
      "cell_type": "code",
      "source": [
        "def check_duplicates(arr: list):\n",
        "  for item in arr:\n",
        "    #using count to find items more than one\n",
        "    if arr.count(item) > 1:\n",
        "      return item\n",
        "    else:\n",
        "      return ('No duplicates')\n",
        "\n",
        "#lists\n",
        "fruits = ['apple','orange','banana','apple']\n",
        "names = ['Yoda','Moses','Joshua','Mark']\n",
        "\n",
        "print(check_duplicates(fruits))\n",
        "print(check_duplicates(names))"
      ],
      "metadata": {
        "colab": {
          "base_uri": "https://localhost:8080/"
        },
        "id": "HF2mHfQFd3W3",
        "outputId": "85ce94ba-cc51-4d18-c09d-f16dcca611a8"
      },
      "execution_count": 8,
      "outputs": [
        {
          "output_type": "stream",
          "name": "stdout",
          "text": [
            "apple\n",
            "No duplicates\n"
          ]
        }
      ]
    },
    {
      "cell_type": "code",
      "source": [
        "register = {'Michael','yes','John','no','Peter','yes','Mary','yes'}\n",
        "\n",
        "def register_check(reg: dict):\n",
        "  #create a count variable\n",
        "  count = 0\n",
        "  for value in reg.values():\n",
        "    if value == 'yes':\n",
        "      count += 1\n",
        "    return('Number of students in school is',count)\n",
        "\n",
        "print(register_check(register))"
      ],
      "metadata": {
        "colab": {
          "base_uri": "https://localhost:8080/",
          "height": 321
        },
        "id": "7adkYZmsfeLd",
        "outputId": "4d52de27-8bb8-4909-aa81-8c8615066282"
      },
      "execution_count": 12,
      "outputs": [
        {
          "output_type": "error",
          "ename": "AttributeError",
          "evalue": "ignored",
          "traceback": [
            "\u001b[0;31m---------------------------------------------------------------------------\u001b[0m",
            "\u001b[0;31mAttributeError\u001b[0m                            Traceback (most recent call last)",
            "\u001b[0;32m<ipython-input-12-f05c5a9004e0>\u001b[0m in \u001b[0;36m<module>\u001b[0;34m\u001b[0m\n\u001b[1;32m      9\u001b[0m     \u001b[0;32mreturn\u001b[0m\u001b[0;34m(\u001b[0m\u001b[0;34m'Number of students in school is'\u001b[0m\u001b[0;34m,\u001b[0m\u001b[0mcount\u001b[0m\u001b[0;34m)\u001b[0m\u001b[0;34m\u001b[0m\u001b[0;34m\u001b[0m\u001b[0m\n\u001b[1;32m     10\u001b[0m \u001b[0;34m\u001b[0m\u001b[0m\n\u001b[0;32m---> 11\u001b[0;31m \u001b[0mprint\u001b[0m\u001b[0;34m(\u001b[0m\u001b[0mregister_check\u001b[0m\u001b[0;34m(\u001b[0m\u001b[0mregister\u001b[0m\u001b[0;34m)\u001b[0m\u001b[0;34m)\u001b[0m\u001b[0;34m\u001b[0m\u001b[0;34m\u001b[0m\u001b[0m\n\u001b[0m",
            "\u001b[0;32m<ipython-input-12-f05c5a9004e0>\u001b[0m in \u001b[0;36mregister_check\u001b[0;34m(reg)\u001b[0m\n\u001b[1;32m      4\u001b[0m   \u001b[0;31m#create a count variable\u001b[0m\u001b[0;34m\u001b[0m\u001b[0;34m\u001b[0m\u001b[0;34m\u001b[0m\u001b[0m\n\u001b[1;32m      5\u001b[0m   \u001b[0mcount\u001b[0m \u001b[0;34m=\u001b[0m \u001b[0;36m0\u001b[0m\u001b[0;34m\u001b[0m\u001b[0;34m\u001b[0m\u001b[0m\n\u001b[0;32m----> 6\u001b[0;31m   \u001b[0;32mfor\u001b[0m \u001b[0mvalue\u001b[0m \u001b[0;32min\u001b[0m \u001b[0mreg\u001b[0m\u001b[0;34m.\u001b[0m\u001b[0mvalues\u001b[0m\u001b[0;34m(\u001b[0m\u001b[0;34m)\u001b[0m\u001b[0;34m:\u001b[0m\u001b[0;34m\u001b[0m\u001b[0;34m\u001b[0m\u001b[0m\n\u001b[0m\u001b[1;32m      7\u001b[0m     \u001b[0;32mif\u001b[0m \u001b[0mvalue\u001b[0m \u001b[0;34m==\u001b[0m \u001b[0;34m'yes'\u001b[0m\u001b[0;34m:\u001b[0m\u001b[0;34m\u001b[0m\u001b[0;34m\u001b[0m\u001b[0m\n\u001b[1;32m      8\u001b[0m       \u001b[0mcount\u001b[0m \u001b[0;34m+=\u001b[0m \u001b[0;36m1\u001b[0m\u001b[0;34m\u001b[0m\u001b[0;34m\u001b[0m\u001b[0m\n",
            "\u001b[0;31mAttributeError\u001b[0m: 'set' object has no attribute 'values'"
          ]
        }
      ]
    },
    {
      "cell_type": "code",
      "source": [
        "register = {'Michael':'yes', 'John': 'no',\n",
        " 'Peter':'yes', 'Mary': 'yes'}\n",
        "def register_check(reg: dict):\n",
        " # Create a count variable\n",
        " count = 0\n",
        " for value in reg.values():\n",
        "   if value == 'yes':\n",
        "     count += 1\n",
        " return 'Number of students in school is', count\n",
        "print(register_check(register))"
      ],
      "metadata": {
        "colab": {
          "base_uri": "https://localhost:8080/"
        },
        "id": "9jppSpBShi60",
        "outputId": "1f8abcd8-9d9d-4381-adf1-6de64e7de6b3"
      },
      "execution_count": 15,
      "outputs": [
        {
          "output_type": "stream",
          "name": "stdout",
          "text": [
            "('Number of students in school is', 3)\n"
          ]
        }
      ]
    },
    {
      "cell_type": "code",
      "source": [
        "register = {'Michael':'Yes', 'john':'no',\n",
        "            'Peter':'yes', 'Mary':'yes'}\n",
        "          \n",
        "def register_check(reg: dict):\n",
        "  count = 0\n",
        "  for value, key in reg.items():\n",
        "    if value == 'yes':\n",
        "      count += 1\n",
        "\n",
        "  return('Number of students in school is', count)\n",
        "\n",
        "print(register_check(register))"
      ],
      "metadata": {
        "colab": {
          "base_uri": "https://localhost:8080/"
        },
        "id": "k0EOC1qni5H6",
        "outputId": "025a817f-a0dc-46a6-bc91-2decf3da2743"
      },
      "execution_count": 18,
      "outputs": [
        {
          "output_type": "stream",
          "name": "stdout",
          "text": [
            "('Number of students in school is', 0)\n"
          ]
        }
      ]
    },
    {
      "cell_type": "code",
      "source": [
        "names = [\"kerry\",\"dickson\",\"John\",\"Mary\",\"carol\",\"Rose\",\"adam\"]\n",
        "\n",
        "# creating an empty list\n",
        "d = []\n",
        "#using sorted function to sort list in descending order\n",
        "for name in sorted(names, reverse = True):\n",
        "  if name.islower():\n",
        "    d.append(name)\n",
        "    tuple_names = tuple(d)\n",
        "\n",
        "print(tuple_names)"
      ],
      "metadata": {
        "colab": {
          "base_uri": "https://localhost:8080/"
        },
        "id": "DcmhOVQckw8F",
        "outputId": "598fdd4d-53fa-4bc7-c8b0-88f2d83e27d6"
      },
      "execution_count": 19,
      "outputs": [
        {
          "output_type": "stream",
          "name": "stdout",
          "text": [
            "('kerry', 'dickson', 'carol', 'adam')\n"
          ]
        }
      ]
    },
    {
      "cell_type": "code",
      "source": [
        "def only_float(a,b):\n",
        "  if type(a) == float and type(b) == float:\n",
        "    return 2\n",
        "  elif type(a) == float or type(b) == float:\n",
        "    return 1\n",
        "  else:\n",
        "    return 0\n",
        "\n",
        "print(only_float(12.1, 23))"
      ],
      "metadata": {
        "colab": {
          "base_uri": "https://localhost:8080/"
        },
        "id": "_nFjzKwtpDNx",
        "outputId": "0886de3d-f8d9-411b-fba8-3a66d042087c"
      },
      "execution_count": 20,
      "outputs": [
        {
          "output_type": "stream",
          "name": "stdout",
          "text": [
            "1\n"
          ]
        }
      ]
    },
    {
      "cell_type": "code",
      "source": [
        "def word_index(arr: list):\n",
        "  for word in arr:\n",
        "    for j in range(len(arr) - 1):\n",
        "      #checking if the lengths of all the words are equal\n",
        "      if len(arr[j]) == len(arr[j + 1]):\n",
        "        return 0\n",
        "      #using len function and max to find the longest word\n",
        "      elif len(word) == len(max(arr)):\n",
        "        return (f'The longest word is at index: {arr.index(word)}')\n",
        "  \n",
        "words1 = ['Hate','remorse','vengeance']\n",
        "words2 = ['Love','Hate']\n",
        "print(word_index(words1))\n",
        "print(word_index(words2))"
      ],
      "metadata": {
        "colab": {
          "base_uri": "https://localhost:8080/"
        },
        "id": "qkLBc9azphKe",
        "outputId": "4deaf02d-f632-47d9-b0a7-4e20c596f9c1"
      },
      "execution_count": 24,
      "outputs": [
        {
          "output_type": "stream",
          "name": "stdout",
          "text": [
            "The longest word is at index: 2\n",
            "0\n"
          ]
        }
      ]
    },
    {
      "cell_type": "code",
      "source": [
        "def my_discount():\n",
        "  price = int(input('Enter the price: '))\n",
        "  discount = int(input('Enter the discount: '))\n",
        "  aft_dsc = price * (100-discount)/100\n",
        "  return ('Price after discount is ',aft_dsc)\n",
        "\n",
        "print(my_discount())"
      ],
      "metadata": {
        "colab": {
          "base_uri": "https://localhost:8080/"
        },
        "id": "6_2km3j8qTGG",
        "outputId": "94f774bd-1e30-4784-dffc-905830e75edf"
      },
      "execution_count": 25,
      "outputs": [
        {
          "output_type": "stream",
          "name": "stdout",
          "text": [
            "Enter the price: 300\n",
            "Enter the discount: 20\n",
            "('Price after discount is ', 240.0)\n"
          ]
        }
      ]
    },
    {
      "cell_type": "code",
      "source": [
        "students = ['Male', 'Female', 'female', 'male', 'male', 'male',\n",
        " 'female', 'male', 'Female', 'Male', 'Female', 'Male', 'female']\n",
        "\n",
        "def count_students(arr: list) -> list:\n",
        "  #create an empty list to append lowercase strings\n",
        "  new_list = []\n",
        "  student_count = []\n",
        "  for names in students:\n",
        "    new_list.append(names.lower())\n",
        "  \n",
        "  for sex in new_list:\n",
        "    if sex == 'male':\n",
        "      student_count.append((sex, new_list.count(sex)))\n",
        "      break\n",
        "    \n",
        "  for j in new_list:\n",
        "    if j == 'female':\n",
        "      student_count.append((j, new_list.count(j)))\n",
        "      break\n",
        "print(count_students(students))"
      ],
      "metadata": {
        "colab": {
          "base_uri": "https://localhost:8080/"
        },
        "id": "Z1gIrMMsrESP",
        "outputId": "f7daaecc-2ed7-437a-e33e-807f2103905c"
      },
      "execution_count": 26,
      "outputs": [
        {
          "output_type": "stream",
          "name": "stdout",
          "text": [
            "None\n"
          ]
        }
      ]
    },
    {
      "cell_type": "code",
      "source": [
        "def user_name():\n",
        "  your_email = input(\"Enter your email \")\n",
        "  user_name = your_email.split('@') [0]\n",
        "  return (f'Your user name is {user_name}')"
      ],
      "metadata": {
        "id": "9JjMIXI_thZR"
      },
      "execution_count": 29,
      "outputs": []
    },
    {
      "cell_type": "code",
      "source": [
        "print(user_name())"
      ],
      "metadata": {
        "colab": {
          "base_uri": "https://localhost:8080/"
        },
        "id": "x3e6kUXyuB2L",
        "outputId": "4c738596-aa13-4584-bdb3-5456dc155993"
      },
      "execution_count": 30,
      "outputs": [
        {
          "output_type": "stream",
          "name": "stdout",
          "text": [
            "Enter your email amarjeet214690@gmail.com\n",
            "Your user name is amarjeet214690\n"
          ]
        }
      ]
    },
    {
      "cell_type": "code",
      "source": [
        "list1 = [2, 5, 7, 8, 9]\n",
        "\n",
        "def zeroed(arr: list) -> list:\n",
        "  #Access and modify the first element\n",
        "  arr[0] = 0\n",
        "  # Access and modify the last element\n",
        "  arr[-1] = 0\n",
        "  return arr\n",
        "\n",
        "print(zeroed(list1))"
      ],
      "metadata": {
        "colab": {
          "base_uri": "https://localhost:8080/"
        },
        "id": "lfSaeUtsuF95",
        "outputId": "18901dad-5acb-4a1d-d13e-b5db579846ed"
      },
      "execution_count": 31,
      "outputs": [
        {
          "output_type": "stream",
          "name": "stdout",
          "text": [
            "[0, 5, 7, 8, 0]\n"
          ]
        }
      ]
    },
    {
      "cell_type": "code",
      "source": [
        "def string_range(num: int):\n",
        "  x = [str(i) for i in range(num)]\n",
        "  x = \".\".join(x)\n",
        "  return x"
      ],
      "metadata": {
        "id": "qbQJmxOUux5A"
      },
      "execution_count": 33,
      "outputs": []
    },
    {
      "cell_type": "code",
      "source": [
        "print(string_range(6))"
      ],
      "metadata": {
        "colab": {
          "base_uri": "https://localhost:8080/"
        },
        "id": "eFL8Rd_dvBv7",
        "outputId": "5a45adde-09f4-4124-f75f-f986f7f8bd41"
      },
      "execution_count": 34,
      "outputs": [
        {
          "output_type": "stream",
          "name": "stdout",
          "text": [
            "0.1.2.3.4.5\n"
          ]
        }
      ]
    },
    {
      "cell_type": "code",
      "source": [
        "names = [\"Joseph\", \"Nathan\", \"Sasha\", \"Kelly\",\n",
        " \"Muhammad\", \"Jabulani\", \"Sera\", \"Patel\", \"Sera\"]\n",
        "d = {} # Creating an empty dictionary\n",
        "for name in names:\n",
        "  if name.startswith('S'):\n",
        "    # Using the dictionary update method\n",
        "    d.update({name: names.count(name)})\n",
        "print(d)\n"
      ],
      "metadata": {
        "colab": {
          "base_uri": "https://localhost:8080/"
        },
        "id": "ouZ_Gp5CvGbg",
        "outputId": "49c302c3-edfe-462c-c75c-341e0c358b26"
      },
      "execution_count": 36,
      "outputs": [
        {
          "output_type": "stream",
          "name": "stdout",
          "text": [
            "{'Sasha': 1, 'Sera': 2}\n"
          ]
        }
      ]
    },
    {
      "cell_type": "code",
      "source": [
        "from collections import Counter\n",
        "count = [] # Creating an empty list\n",
        "for name in names:\n",
        "  if name.startswith(\"S\"):\n",
        "    # Appending names that start with S to the list\n",
        "    count.append(name)\n",
        " # Using the counter method to return a dictionary\n",
        "  names = Counter(count)\n",
        "print(names)\n"
      ],
      "metadata": {
        "colab": {
          "base_uri": "https://localhost:8080/"
        },
        "id": "16zSCXdZv1V0",
        "outputId": "52eae422-bd19-4ef5-bcf4-3dd48f6181ae"
      },
      "execution_count": 39,
      "outputs": [
        {
          "output_type": "stream",
          "name": "stdout",
          "text": [
            "Counter({'Sera': 2, 'Sasha': 1})\n"
          ]
        }
      ]
    },
    {
      "cell_type": "code",
      "source": [
        "def odd_even(a):\n",
        "  even = []\n",
        "  odd = []\n",
        "  for i in a :\n",
        "    if i % 2 ==0:\n",
        "      even.append(i)\n",
        "    if i % 2 != 0:\n",
        "      odd.append(i)\n",
        "\n",
        "  return max(even) - min(odd)\n",
        "\n",
        "print(odd_even([1,2,3,4,5,6]))"
      ],
      "metadata": {
        "colab": {
          "base_uri": "https://localhost:8080/"
        },
        "id": "pFAl1xTQwKaN",
        "outputId": "f8c8b445-3bb2-4e89-cd7b-79fe94b9814b"
      },
      "execution_count": 40,
      "outputs": [
        {
          "output_type": "stream",
          "name": "stdout",
          "text": [
            "5\n"
          ]
        }
      ]
    },
    {
      "cell_type": "code",
      "source": [],
      "metadata": {
        "id": "g1Bi6YoGwqhu"
      },
      "execution_count": null,
      "outputs": []
    }
  ]
}