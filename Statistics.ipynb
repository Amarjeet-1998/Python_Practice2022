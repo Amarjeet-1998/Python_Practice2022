{
  "nbformat": 4,
  "nbformat_minor": 0,
  "metadata": {
    "colab": {
      "provenance": [],
      "authorship_tag": "ABX9TyMjqh9JAUSsC9it48vLZCOw",
      "include_colab_link": true
    },
    "kernelspec": {
      "name": "python3",
      "display_name": "Python 3"
    },
    "language_info": {
      "name": "python"
    }
  },
  "cells": [
    {
      "cell_type": "markdown",
      "metadata": {
        "id": "view-in-github",
        "colab_type": "text"
      },
      "source": [
        "<a href=\"https://colab.research.google.com/github/Amarjeet-1998/Python_Practice2022/blob/main/Statistics.ipynb\" target=\"_parent\"><img src=\"https://colab.research.google.com/assets/colab-badge.svg\" alt=\"Open In Colab\"/></a>"
      ]
    },
    {
      "cell_type": "markdown",
      "source": [
        "Calculating the mean"
      ],
      "metadata": {
        "id": "ijgs9FaCLRrC"
      }
    },
    {
      "cell_type": "code",
      "execution_count": 1,
      "metadata": {
        "colab": {
          "base_uri": "https://localhost:8080/"
        },
        "id": "7hnxpGxtKb8g",
        "outputId": "82eb196a-eb67-4fae-d8cd-c8c584711acc"
      },
      "outputs": [
        {
          "output_type": "stream",
          "name": "stdout",
          "text": [
            "10.75\n"
          ]
        }
      ],
      "source": [
        "import numpy as np\n",
        "values = [4,11,25,3]\n",
        "mean = np.mean(values)\n",
        "print(mean)"
      ]
    },
    {
      "cell_type": "markdown",
      "source": [
        "## Finding the median with programming"
      ],
      "metadata": {
        "id": "cRDNE8XjLWBT"
      }
    },
    {
      "cell_type": "code",
      "source": [
        "import numpy as np\n",
        "values = [13,21,21,40,42,48,55,72]\n",
        "median = np.median(values)\n",
        "print(median)"
      ],
      "metadata": {
        "colab": {
          "base_uri": "https://localhost:8080/"
        },
        "id": "ZAJcz-cCKx4-",
        "outputId": "2093ab68-dd13-49f7-f99a-3334cb836bcd"
      },
      "execution_count": 2,
      "outputs": [
        {
          "output_type": "stream",
          "name": "stdout",
          "text": [
            "41.0\n"
          ]
        }
      ]
    },
    {
      "cell_type": "markdown",
      "source": [
        "# Finding the mode with programming"
      ],
      "metadata": {
        "id": "ixefzl7-Ld4z"
      }
    },
    {
      "cell_type": "code",
      "source": [
        "import statistics\n",
        "values = [4,7,3,8,11,10,9,6,12,12,34]\n",
        "print(statistics.mode(values))"
      ],
      "metadata": {
        "colab": {
          "base_uri": "https://localhost:8080/"
        },
        "id": "5BobTfzdLCMN",
        "outputId": "53f9cee0-6b31-450d-e3dd-ea3870812f6b"
      },
      "execution_count": 3,
      "outputs": [
        {
          "output_type": "stream",
          "name": "stdout",
          "text": [
            "12\n"
          ]
        }
      ]
    },
    {
      "cell_type": "markdown",
      "source": [
        "# Calculating the range with programming"
      ],
      "metadata": {
        "id": "42nN2I5JLqML"
      }
    },
    {
      "cell_type": "code",
      "source": [
        "import numpy \n",
        "values = [13,21,21,40,48,55,72]\n",
        "x = np.ptp(values)\n",
        "print(x)"
      ],
      "metadata": {
        "colab": {
          "base_uri": "https://localhost:8080/"
        },
        "id": "L8s0L17mLQIs",
        "outputId": "275f8c86-a480-4f66-8488-f16699d2dc4a"
      },
      "execution_count": 4,
      "outputs": [
        {
          "output_type": "stream",
          "name": "stdout",
          "text": [
            "59\n"
          ]
        }
      ]
    },
    {
      "cell_type": "markdown",
      "source": [
        "# calculating quartiles with programming"
      ],
      "metadata": {
        "id": "JnYWu4ZKM0RN"
      }
    },
    {
      "cell_type": "code",
      "source": [
        "import numpy\n",
        "values = [13,21,21,40,42,48,55,72]\n",
        "x = np.quantile(values,[0,0.25,0.50,0.75])\n",
        "print(x)"
      ],
      "metadata": {
        "colab": {
          "base_uri": "https://localhost:8080/"
        },
        "id": "DILilOImMjvK",
        "outputId": "8fa1d668-c677-4ed9-ac4b-368b03a787bd"
      },
      "execution_count": 6,
      "outputs": [
        {
          "output_type": "stream",
          "name": "stdout",
          "text": [
            "[13.   21.   41.   49.75]\n"
          ]
        }
      ]
    },
    {
      "cell_type": "markdown",
      "source": [
        "# calculating percentile with programming"
      ],
      "metadata": {
        "id": "WNtWXXS-NY8v"
      }
    },
    {
      "cell_type": "code",
      "source": [
        "import numpy\n",
        "values = [13,21,21,40,42,48,55,72]\n",
        "x = np.percentile(values,65)\n",
        "print(x)"
      ],
      "metadata": {
        "colab": {
          "base_uri": "https://localhost:8080/"
        },
        "id": "W6rP2GMbNMOZ",
        "outputId": "f8964473-a0ce-483f-fdef-c0a4be4d46fc"
      },
      "execution_count": 7,
      "outputs": [
        {
          "output_type": "stream",
          "name": "stdout",
          "text": [
            "45.3\n"
          ]
        }
      ]
    },
    {
      "cell_type": "markdown",
      "source": [
        "# calculating the interquartile Range with programming"
      ],
      "metadata": {
        "id": "Zeg3jIOlOrwq"
      }
    },
    {
      "cell_type": "code",
      "source": [
        "from scipy import stats\n",
        "values = [13,21,21,40,42,48,55,72]\n",
        "x = stats.iqr(values)\n",
        "print(x)"
      ],
      "metadata": {
        "colab": {
          "base_uri": "https://localhost:8080/"
        },
        "id": "yVqIDAnXNrZY",
        "outputId": "dec88da8-ef36-43c2-d951-d398e0af35e6"
      },
      "execution_count": 8,
      "outputs": [
        {
          "output_type": "stream",
          "name": "stdout",
          "text": [
            "28.75\n"
          ]
        }
      ]
    },
    {
      "cell_type": "markdown",
      "source": [
        "# calculating the standard Deviation with programming"
      ],
      "metadata": {
        "id": "CC5t2ZE6PL-n"
      }
    },
    {
      "cell_type": "code",
      "source": [
        "import numpy\n",
        "values = [4,11,7,14]\n",
        "x = np.std(values)\n",
        "print(x)"
      ],
      "metadata": {
        "colab": {
          "base_uri": "https://localhost:8080/"
        },
        "id": "eM6mXkU9PAja",
        "outputId": "44731468-5484-404a-cea9-142a83c0610d"
      },
      "execution_count": 9,
      "outputs": [
        {
          "output_type": "stream",
          "name": "stdout",
          "text": [
            "3.8078865529319543\n"
          ]
        }
      ]
    },
    {
      "cell_type": "markdown",
      "source": [
        "# Estimation\n",
        "\n",
        "statistics from a sample are used to estimate population parameters. The most likely value is called a point estimate.\n",
        "\n",
        "There is always uncertainty when estimating.\n",
        "\n",
        "The uncertainty is often expressed as confidence intervals defined by a likely lowest and highest value for the parameter.\n"
      ],
      "metadata": {
        "id": "eiJbyZsDPd0k"
      }
    },
    {
      "cell_type": "code",
      "source": [],
      "metadata": {
        "id": "A1HezvUqPaGs"
      },
      "execution_count": null,
      "outputs": []
    },
    {
      "cell_type": "markdown",
      "source": [
        "# Hypothesis Testing\n",
        "\n",
        "Hypothesis testing is a method to check if a claim about a population is true. More precisely, it checks how likely it is that a hypothesis is true is based on the sample data.\n",
        "\n",
        "The steps of the test depends on:\n",
        "\n",
        "\n",
        "\n",
        "*   Type of Data(categorical or numerical)\n",
        "*   If you are looking at:\n",
        "\n",
        "    A single group \n",
        "\n",
        "    Comparing one group to another\n",
        "\n",
        "    comparing the same group before and after a change\n",
        "\n"
      ],
      "metadata": {
        "id": "_6r2h9RkQBqi"
      }
    },
    {
      "cell_type": "markdown",
      "source": [
        "# Finding the P-value of a Z-value"
      ],
      "metadata": {
        "id": "GjCm3ypUSiR9"
      }
    },
    {
      "cell_type": "code",
      "source": [
        "import scipy.stats as stats\n",
        "print(stats.norm.cdf(3))"
      ],
      "metadata": {
        "colab": {
          "base_uri": "https://localhost:8080/"
        },
        "id": "7Rieat8XR2J8",
        "outputId": "6cce88c1-1097-4ec4-85c7-5f099be1fe69"
      },
      "execution_count": 10,
      "outputs": [
        {
          "output_type": "stream",
          "name": "stdout",
          "text": [
            "0.9986501019683699\n"
          ]
        }
      ]
    },
    {
      "cell_type": "markdown",
      "source": [
        "# Finding the P-value of a T-value"
      ],
      "metadata": {
        "id": "19g0BEUxTujs"
      }
    },
    {
      "cell_type": "code",
      "source": [
        "import scipy.stats as stats\n",
        "print(stats.t.cdf(2.1,29))"
      ],
      "metadata": {
        "colab": {
          "base_uri": "https://localhost:8080/"
        },
        "id": "-4TxPft_Ss_W",
        "outputId": "06554d19-5089-41da-c4f0-f6e7c57da3d7"
      },
      "execution_count": 11,
      "outputs": [
        {
          "output_type": "stream",
          "name": "stdout",
          "text": [
            "0.9777290209818548\n"
          ]
        }
      ]
    },
    {
      "cell_type": "markdown",
      "source": [
        "# Finding the T-value of a P-value"
      ],
      "metadata": {
        "id": "a-hHkbJhTzRH"
      }
    },
    {
      "cell_type": "code",
      "source": [
        "import scipy.stats as stats\n",
        "print(stats.t.ppf(.75,9)) "
      ],
      "metadata": {
        "colab": {
          "base_uri": "https://localhost:8080/"
        },
        "id": "gMoxKBEFTqpK",
        "outputId": "ba936e28-c747-42cd-a69a-9066bddef072"
      },
      "execution_count": 12,
      "outputs": [
        {
          "output_type": "stream",
          "name": "stdout",
          "text": [
            "0.7027221467513188\n"
          ]
        }
      ]
    },
    {
      "cell_type": "markdown",
      "source": [
        "# Calculating the margin of Error\n"
      ],
      "metadata": {
        "id": "6hyRp7X9Ux9g"
      }
    },
    {
      "cell_type": "code",
      "source": [
        "import scipy.stats as stats\n",
        "print(stats.norm.ppf(1-0.025))"
      ],
      "metadata": {
        "colab": {
          "base_uri": "https://localhost:8080/"
        },
        "id": "7lAOTGvzUDoR",
        "outputId": "5fcd156a-e612-4e5d-efcf-3d98cd2316b3"
      },
      "execution_count": 13,
      "outputs": [
        {
          "output_type": "stream",
          "name": "stdout",
          "text": [
            "1.959963984540054\n"
          ]
        }
      ]
    },
    {
      "cell_type": "code",
      "source": [],
      "metadata": {
        "id": "oOlnUjkZU9dF"
      },
      "execution_count": null,
      "outputs": []
    }
  ]
}