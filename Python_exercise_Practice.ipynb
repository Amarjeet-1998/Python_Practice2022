{
  "nbformat": 4,
  "nbformat_minor": 0,
  "metadata": {
    "colab": {
      "provenance": [],
      "authorship_tag": "ABX9TyNq+l/fHTP/OrfMB3LWzMG7",
      "include_colab_link": true
    },
    "kernelspec": {
      "name": "python3",
      "display_name": "Python 3"
    },
    "language_info": {
      "name": "python"
    }
  },
  "cells": [
    {
      "cell_type": "markdown",
      "metadata": {
        "id": "view-in-github",
        "colab_type": "text"
      },
      "source": [
        "<a href=\"https://colab.research.google.com/github/Amarjeet-1998/Python_Practice2022/blob/main/Python_exercise_Practice.ipynb\" target=\"_parent\"><img src=\"https://colab.research.google.com/assets/colab-badge.svg\" alt=\"Open In Colab\"/></a>"
      ]
    },
    {
      "cell_type": "markdown",
      "source": [
        "For this exercise\n",
        "\n",
        "* Write a function (\n",
        "guessing_game\n",
        ") that takes no arguments.\n",
        "\n",
        "* When run, the function chooses a random integer between 0 and 100 (inclusive).\n",
        "\n",
        "* Then ask the user to guess what number has been chosen.\n",
        "\n",
        "* Each time the user enters a guess, the program indicates one of the following:\n",
        "– Too high\n",
        "– Too low\n",
        "– Just right\n",
        "\n",
        "* If the user guesses correctly, the program exits. Otherwise, the user is asked to\n",
        "try again.\n",
        "\n",
        "* The program only exits after the user guesses correctly\n"
      ],
      "metadata": {
        "id": "6_f5K3SkrKuo"
      }
    },
    {
      "cell_type": "code",
      "execution_count": 4,
      "metadata": {
        "id": "GLKCxFCvrFpC"
      },
      "outputs": [],
      "source": [
        "import random\n",
        "number = random.randint(10,30)"
      ]
    },
    {
      "cell_type": "code",
      "source": [
        "number"
      ],
      "metadata": {
        "colab": {
          "base_uri": "https://localhost:8080/"
        },
        "id": "gR-OFxL7rliL",
        "outputId": "d40ff69c-e24d-4a16-cc82-371de43ba98e"
      },
      "execution_count": 5,
      "outputs": [
        {
          "output_type": "execute_result",
          "data": {
            "text/plain": [
              "22"
            ]
          },
          "metadata": {},
          "execution_count": 5
        }
      ]
    },
    {
      "cell_type": "code",
      "source": [
        "name = input ('Enter your name: ')\n",
        "print(f'Hello, {name} !')"
      ],
      "metadata": {
        "colab": {
          "base_uri": "https://localhost:8080/"
        },
        "id": "LrktuR_TrpeZ",
        "outputId": "5a1f2ae1-003a-42ed-fc69-658bd0d5c979"
      },
      "execution_count": 6,
      "outputs": [
        {
          "output_type": "stream",
          "name": "stdout",
          "text": [
            "Enter your name: Amarjeet\n",
            "Hello, Amarjeet !\n"
          ]
        }
      ]
    },
    {
      "cell_type": "code",
      "source": [
        "import random\n",
        "\n",
        "def guessing_game():\n",
        "  answer = random.randint(0,100)\n",
        "\n",
        "  while True:\n",
        "    user_guess = int(input('what is your guess? '))\n",
        "\n",
        "    if user_guess == answer:\n",
        "      print(f'Right! This answer is {user_guess}')\n",
        "      break\n",
        "\n",
        "    if user_guess < answer:\n",
        "      print(f'Your guess of {user_guess} is too low!')\n",
        "\n",
        "    else:\n",
        "      print(f'Your guess of {user_guess} is too high!')\n",
        "\n",
        "guessing_game()"
      ],
      "metadata": {
        "colab": {
          "base_uri": "https://localhost:8080/"
        },
        "id": "hco05aQAsFYx",
        "outputId": "8bcbe46d-5db8-4cca-b4e3-026a2c298ae6"
      },
      "execution_count": 7,
      "outputs": [
        {
          "output_type": "stream",
          "name": "stdout",
          "text": [
            "what is your guess? 25\n",
            "Your guess of 25 is too low!\n",
            "what is your guess? 69\n",
            "Your guess of 69 is too high!\n",
            "what is your guess? 45\n",
            "Your guess of 45 is too high!\n",
            "what is your guess? 36\n",
            "Your guess of 36 is too low!\n",
            "what is your guess? 41\n",
            "Your guess of 41 is too high!\n",
            "what is your guess? 38\n",
            "Your guess of 38 is too high!\n",
            "what is your guess? 37\n",
            "Right! This answer is 37\n"
          ]
        }
      ]
    },
    {
      "cell_type": "code",
      "source": [
        "name = 'world'\n",
        "f'Hello, {name}'"
      ],
      "metadata": {
        "colab": {
          "base_uri": "https://localhost:8080/",
          "height": 36
        },
        "id": "k9QarHpLucBU",
        "outputId": "b327d4da-72ac-4f07-e492-ec8e8d929b02"
      },
      "execution_count": 8,
      "outputs": [
        {
          "output_type": "execute_result",
          "data": {
            "text/plain": [
              "'Hello, world'"
            ],
            "application/vnd.google.colaboratory.intrinsic+json": {
              "type": "string"
            }
          },
          "metadata": {},
          "execution_count": 8
        }
      ]
    },
    {
      "cell_type": "code",
      "source": [
        "def mysum(*numbers):\n",
        "  output = 0\n",
        "  for number in numbers:\n",
        "    output += number\n",
        "\n",
        "  return output\n",
        "\n",
        "print(mysum(10,20,30,40))\n"
      ],
      "metadata": {
        "colab": {
          "base_uri": "https://localhost:8080/"
        },
        "id": "YDsjP4cpwBUL",
        "outputId": "909ca7d4-2138-4d50-d587-b9ef4a360ec6"
      },
      "execution_count": 9,
      "outputs": [
        {
          "output_type": "stream",
          "name": "stdout",
          "text": [
            "100\n"
          ]
        }
      ]
    },
    {
      "cell_type": "code",
      "source": [
        "try:\n",
        "  n = float(input('Enter a number: '))\n",
        "  print(f'n={n}')\n",
        "\n",
        "except ValueError as e:\n",
        "  print(\"Hey! That's not a valid number!\")\n",
        "\n",
        "\n"
      ],
      "metadata": {
        "colab": {
          "base_uri": "https://localhost:8080/"
        },
        "id": "jXm0Z--Nwlna",
        "outputId": "d9f72bb5-c5a4-436e-d916-2f0d33350a6b"
      },
      "execution_count": 12,
      "outputs": [
        {
          "output_type": "stream",
          "name": "stdout",
          "text": [
            "Enter a number: amar\n",
            "Hey! That's not a valid number!\n"
          ]
        }
      ]
    },
    {
      "cell_type": "code",
      "source": [
        "def run_timing():\n",
        "  \"\"\" Ask the user repeatedly for numeric input. prints the average time and number of runs.\n",
        "  \"\"\"\n",
        "\n",
        "  number_of_runs = 0\n",
        "  total_time = 0\n",
        "\n",
        "  while True:\n",
        "    one_run = input('Enter 10 km run time: ')\n",
        "\n",
        "    if not one_run:\n",
        "      break\n",
        "\n",
        "      number_of_runs += 1\n",
        "      total_time += float(one_run)\n",
        "\n",
        "  average_time = total_time / number_of_runs\n",
        "  print(f'Average of {average_time}, over {number_of_runs} runs')\n",
        "\n",
        "run_timing()"
      ],
      "metadata": {
        "colab": {
          "base_uri": "https://localhost:8080/",
          "height": 391
        },
        "id": "jKrbzX4zxkye",
        "outputId": "87baa7de-786f-4d15-9938-222d75f59029"
      },
      "execution_count": 16,
      "outputs": [
        {
          "name": "stdout",
          "output_type": "stream",
          "text": [
            "Enter 10 km run time: 25\n",
            "Enter 10 km run time: 25\n",
            "Enter 10 km run time: 25\n",
            "Enter 10 km run time: \n"
          ]
        },
        {
          "output_type": "error",
          "ename": "ZeroDivisionError",
          "evalue": "ignored",
          "traceback": [
            "\u001b[0;31m---------------------------------------------------------------------------\u001b[0m",
            "\u001b[0;31mZeroDivisionError\u001b[0m                         Traceback (most recent call last)",
            "\u001b[0;32m<ipython-input-16-f0866b564f91>\u001b[0m in \u001b[0;36m<module>\u001b[0;34m\u001b[0m\n\u001b[1;32m     18\u001b[0m   \u001b[0mprint\u001b[0m\u001b[0;34m(\u001b[0m\u001b[0;34mf'Average of {average_time}, over {number_of_runs} runs'\u001b[0m\u001b[0;34m)\u001b[0m\u001b[0;34m\u001b[0m\u001b[0;34m\u001b[0m\u001b[0m\n\u001b[1;32m     19\u001b[0m \u001b[0;34m\u001b[0m\u001b[0m\n\u001b[0;32m---> 20\u001b[0;31m \u001b[0mrun_timing\u001b[0m\u001b[0;34m(\u001b[0m\u001b[0;34m)\u001b[0m\u001b[0;34m\u001b[0m\u001b[0;34m\u001b[0m\u001b[0m\n\u001b[0m",
            "\u001b[0;32m<ipython-input-16-f0866b564f91>\u001b[0m in \u001b[0;36mrun_timing\u001b[0;34m()\u001b[0m\n\u001b[1;32m     15\u001b[0m       \u001b[0mtotal_time\u001b[0m \u001b[0;34m+=\u001b[0m \u001b[0mfloat\u001b[0m\u001b[0;34m(\u001b[0m\u001b[0mone_run\u001b[0m\u001b[0;34m)\u001b[0m\u001b[0;34m\u001b[0m\u001b[0;34m\u001b[0m\u001b[0m\n\u001b[1;32m     16\u001b[0m \u001b[0;34m\u001b[0m\u001b[0m\n\u001b[0;32m---> 17\u001b[0;31m   \u001b[0maverage_time\u001b[0m \u001b[0;34m=\u001b[0m \u001b[0mtotal_time\u001b[0m \u001b[0;34m/\u001b[0m \u001b[0mnumber_of_runs\u001b[0m\u001b[0;34m\u001b[0m\u001b[0;34m\u001b[0m\u001b[0m\n\u001b[0m\u001b[1;32m     18\u001b[0m   \u001b[0mprint\u001b[0m\u001b[0;34m(\u001b[0m\u001b[0;34mf'Average of {average_time}, over {number_of_runs} runs'\u001b[0m\u001b[0;34m)\u001b[0m\u001b[0;34m\u001b[0m\u001b[0;34m\u001b[0m\u001b[0m\n\u001b[1;32m     19\u001b[0m \u001b[0;34m\u001b[0m\u001b[0m\n",
            "\u001b[0;31mZeroDivisionError\u001b[0m: division by zero"
          ]
        }
      ]
    },
    {
      "cell_type": "code",
      "source": [
        "for index, one_letter in enumerate('abcd'):\n",
        "  print(f'{index}: {one_letter}')"
      ],
      "metadata": {
        "colab": {
          "base_uri": "https://localhost:8080/"
        },
        "id": "OD3TtN_2y4OI",
        "outputId": "b7aa8aad-1b0e-4713-fa1c-a9c268bd72bb"
      },
      "execution_count": 17,
      "outputs": [
        {
          "output_type": "stream",
          "name": "stdout",
          "text": [
            "0: a\n",
            "1: b\n",
            "2: c\n",
            "3: d\n"
          ]
        }
      ]
    },
    {
      "cell_type": "code",
      "source": [
        "def hex_output():\n",
        "  decnum = 0\n",
        "  hexnum = input('Enter a hex number to convert: ')\n",
        "  for power, digit in enumerate (reversed(hexnum)):\n",
        "    decnum += int(digit, 16) * (16 ** power)\n",
        "\n",
        "  print(decnum)\n",
        "\n",
        "hex_output()"
      ],
      "metadata": {
        "colab": {
          "base_uri": "https://localhost:8080/"
        },
        "id": "9j_zoLPc9I-O",
        "outputId": "6a9559c3-db31-4d16-daa0-c5c8868156ff"
      },
      "execution_count": 18,
      "outputs": [
        {
          "output_type": "stream",
          "name": "stdout",
          "text": [
            "Enter a hex number to convert: 34567788\n",
            "878081928\n"
          ]
        }
      ]
    },
    {
      "cell_type": "markdown",
      "source": [
        "# Strings"
      ],
      "metadata": {
        "id": "ryC_1x9j-ejq"
      }
    },
    {
      "cell_type": "code",
      "source": [
        "def latin(word):\n",
        "  if word[0] in 'aeiou':\n",
        "    return f'{word}way'\n",
        "\n",
        "  return f'{word[1:]}{word[0]}ay'\n",
        "\n",
        "print(latin('python'))\n"
      ],
      "metadata": {
        "colab": {
          "base_uri": "https://localhost:8080/"
        },
        "id": "qys6TaLx-EUg",
        "outputId": "c62fbe0b-6253-4089-ceb7-ea72a2f44582"
      },
      "execution_count": 20,
      "outputs": [
        {
          "output_type": "stream",
          "name": "stdout",
          "text": [
            "ythonpay\n"
          ]
        }
      ]
    },
    {
      "cell_type": "code",
      "source": [
        "def pl_sentence(sentence):\n",
        "  output = []\n",
        "  for word in sentence.split():\n",
        "    if word[0] in 'aeiou':\n",
        "      output.append(f'{word}way')\n",
        "    else:\n",
        "      output.append(f'{word[1:]}{word[0]}ay')\n",
        "    \n",
        "  return ' '.join(output)\n",
        "\n",
        "print(pl_sentence('this is a test'))"
      ],
      "metadata": {
        "colab": {
          "base_uri": "https://localhost:8080/"
        },
        "id": "R8vp0WfZBp_2",
        "outputId": "5fa26914-d35f-4d4b-ffcf-1720872e69d5"
      },
      "execution_count": 22,
      "outputs": [
        {
          "output_type": "stream",
          "name": "stdout",
          "text": [
            "histay isway away esttay\n"
          ]
        }
      ]
    },
    {
      "cell_type": "code",
      "source": [
        "def ubbi_dubbi(word):\n",
        "  output = []\n",
        "\n",
        "  for letter in word:\n",
        "    if letter in 'aeiou':\n",
        "      output.append(f'ub{letter}')\n",
        "    else:\n",
        "      output.append(letter)\n",
        "\n",
        "  return ''.join(output)\n",
        "\n",
        "print(ubbi_dubbi('python'))"
      ],
      "metadata": {
        "colab": {
          "base_uri": "https://localhost:8080/"
        },
        "id": "O7JFOGijC5OL",
        "outputId": "d15b7cf5-e3e4-48e1-9299-6cd5f744ed65"
      },
      "execution_count": 23,
      "outputs": [
        {
          "output_type": "stream",
          "name": "stdout",
          "text": [
            "pythubon\n"
          ]
        }
      ]
    },
    {
      "cell_type": "code",
      "source": [
        "def strsort(a_string):\n",
        "  return ''.join(sorted(a_string))\n",
        "\n",
        "print(strsort('cbjeaf'))"
      ],
      "metadata": {
        "colab": {
          "base_uri": "https://localhost:8080/"
        },
        "id": "ZYva2PS7Di3x",
        "outputId": "aec37056-16b2-458d-ee98-dad0c3fa0607"
      },
      "execution_count": 25,
      "outputs": [
        {
          "output_type": "stream",
          "name": "stdout",
          "text": [
            "abcefj\n"
          ]
        }
      ]
    },
    {
      "cell_type": "markdown",
      "source": [
        "# Lists and tuples"
      ],
      "metadata": {
        "id": "hmelUfkiEAbL"
      }
    },
    {
      "cell_type": "code",
      "source": [
        "mylist = [10,20,30,40,50]\n",
        "\n",
        "first = mylist[1:3]\n",
        "last = mylist[3:5]"
      ],
      "metadata": {
        "id": "gur98lvNDv4M"
      },
      "execution_count": 26,
      "outputs": []
    },
    {
      "cell_type": "code",
      "source": [
        "first"
      ],
      "metadata": {
        "colab": {
          "base_uri": "https://localhost:8080/"
        },
        "id": "8nOMB6apE-X-",
        "outputId": "4ea7063e-ac4a-4f17-d439-b2f6a7cb047b"
      },
      "execution_count": 27,
      "outputs": [
        {
          "output_type": "execute_result",
          "data": {
            "text/plain": [
              "[20, 30]"
            ]
          },
          "metadata": {},
          "execution_count": 27
        }
      ]
    },
    {
      "cell_type": "code",
      "source": [
        "last"
      ],
      "metadata": {
        "colab": {
          "base_uri": "https://localhost:8080/"
        },
        "id": "T9N_9AsYE_eR",
        "outputId": "fa9717c1-5e49-44fc-e392-554db06f0ba4"
      },
      "execution_count": 28,
      "outputs": [
        {
          "output_type": "execute_result",
          "data": {
            "text/plain": [
              "[40, 50]"
            ]
          },
          "metadata": {},
          "execution_count": 28
        }
      ]
    },
    {
      "cell_type": "code",
      "source": [
        "t = (10,20,30,40,50)\n",
        "\n",
        "first = t[1:3]\n",
        "last = t[3:5]"
      ],
      "metadata": {
        "id": "rZp2urFIFAmE"
      },
      "execution_count": 29,
      "outputs": []
    },
    {
      "cell_type": "code",
      "source": [
        "first\n"
      ],
      "metadata": {
        "colab": {
          "base_uri": "https://localhost:8080/"
        },
        "id": "5I5oi107FL1V",
        "outputId": "d11b2117-d8f0-42ec-eacc-fbe1d8c5c324"
      },
      "execution_count": 31,
      "outputs": [
        {
          "output_type": "execute_result",
          "data": {
            "text/plain": [
              "(20, 30)"
            ]
          },
          "metadata": {},
          "execution_count": 31
        }
      ]
    },
    {
      "cell_type": "code",
      "source": [
        "last"
      ],
      "metadata": {
        "colab": {
          "base_uri": "https://localhost:8080/"
        },
        "id": "lIvhGcEOFO6w",
        "outputId": "cf6ffacb-7018-4ba2-feb1-af041972cb8d"
      },
      "execution_count": 32,
      "outputs": [
        {
          "output_type": "execute_result",
          "data": {
            "text/plain": [
              "(40, 50)"
            ]
          },
          "metadata": {},
          "execution_count": 32
        }
      ]
    },
    {
      "cell_type": "code",
      "source": [
        "def firstlast (sequence):\n",
        "  return sequence[0] + sequence[-1]\n",
        "\n",
        "t1 = ('a','b','c')\n",
        "output1 = firstlast(t1)\n",
        "print(output1)"
      ],
      "metadata": {
        "colab": {
          "base_uri": "https://localhost:8080/"
        },
        "id": "BTLxNyQKFSBK",
        "outputId": "3ec62077-4272-411e-c695-0f9f132cb118"
      },
      "execution_count": 34,
      "outputs": [
        {
          "output_type": "stream",
          "name": "stdout",
          "text": [
            "ac\n"
          ]
        }
      ]
    },
    {
      "cell_type": "code",
      "source": [
        "t2 = (1,2,3,4)\n",
        "\n",
        "output2 = firstlast(t2)\n",
        "print(output2)"
      ],
      "metadata": {
        "colab": {
          "base_uri": "https://localhost:8080/"
        },
        "id": "MFhD1gT-FrHn",
        "outputId": "3d5d424f-1bac-4337-9282-80021ecc2552"
      },
      "execution_count": 35,
      "outputs": [
        {
          "output_type": "stream",
          "name": "stdout",
          "text": [
            "5\n"
          ]
        }
      ]
    },
    {
      "cell_type": "code",
      "source": [
        "import sys\n",
        "mylist = []\n",
        "for i in range(25):\n",
        "  l = len(mylist)\n",
        "  s = sys.getsizeof(mylist)\n",
        "  print(f'len = {l}, size = {s}')\n",
        "  mylist.append(i)"
      ],
      "metadata": {
        "colab": {
          "base_uri": "https://localhost:8080/"
        },
        "id": "a0j62RY5F5lv",
        "outputId": "9cbf6842-9eee-497d-c126-bfa8cab3d756"
      },
      "execution_count": 36,
      "outputs": [
        {
          "output_type": "stream",
          "name": "stdout",
          "text": [
            "len = 0, size = 72\n",
            "len = 1, size = 104\n",
            "len = 2, size = 104\n",
            "len = 3, size = 104\n",
            "len = 4, size = 104\n",
            "len = 5, size = 136\n",
            "len = 6, size = 136\n",
            "len = 7, size = 136\n",
            "len = 8, size = 136\n",
            "len = 9, size = 200\n",
            "len = 10, size = 200\n",
            "len = 11, size = 200\n",
            "len = 12, size = 200\n",
            "len = 13, size = 200\n",
            "len = 14, size = 200\n",
            "len = 15, size = 200\n",
            "len = 16, size = 200\n",
            "len = 17, size = 272\n",
            "len = 18, size = 272\n",
            "len = 19, size = 272\n",
            "len = 20, size = 272\n",
            "len = 21, size = 272\n",
            "len = 22, size = 272\n",
            "len = 23, size = 272\n",
            "len = 24, size = 272\n"
          ]
        }
      ]
    },
    {
      "cell_type": "code",
      "source": [
        "def mysum(*items):\n",
        "  if not items:\n",
        "    return items\n",
        "  output = items[0]\n",
        "  for item in items[1:]:\n",
        "    output += item\n",
        "  \n",
        "  return output\n",
        "\n",
        "print(mysum(10,20,30,40))\n"
      ],
      "metadata": {
        "colab": {
          "base_uri": "https://localhost:8080/"
        },
        "id": "UPCbi0TcGjZa",
        "outputId": "3c133f4b-4528-49bb-cfea-be2164e91855"
      },
      "execution_count": 37,
      "outputs": [
        {
          "output_type": "stream",
          "name": "stdout",
          "text": [
            "100\n"
          ]
        }
      ]
    },
    {
      "cell_type": "code",
      "source": [
        "def mysum(*items):\n",
        "  if not items:\n",
        "    return items\n",
        "  output = items[0]\n",
        "\n",
        "  for item in items[1:]:\n",
        "    output += item\n",
        "\n",
        "  return output\n",
        "\n",
        "print(mysum())\n",
        "print(mysum(10,20,30,40,50))\n",
        "print(mysum('a','b','c','d'))\n",
        "print(mysum([10,20,30],[40,50,60], [70,80]))\n"
      ],
      "metadata": {
        "colab": {
          "base_uri": "https://localhost:8080/"
        },
        "id": "-myKr2TSHI5N",
        "outputId": "5eb8a69b-c795-4a6f-930d-16c92137202b"
      },
      "execution_count": 38,
      "outputs": [
        {
          "output_type": "stream",
          "name": "stdout",
          "text": [
            "()\n",
            "150\n",
            "abcd\n",
            "[10, 20, 30, 40, 50, 60, 70, 80]\n"
          ]
        }
      ]
    },
    {
      "cell_type": "code",
      "source": [
        "import operator\n",
        "people = [{'first':'Reuven','last':'Learner',\n",
        "           'email':'reuven@learner,co,il'},\n",
        "          {'first': 'Donald','last':'Trump',\n",
        "           'email':'president@ksd.hi'},\n",
        "          {'first':'Amar','last':'kumar',\n",
        "           'email':'president@ksd.hi'}\n",
        "          ]\n",
        "\n",
        "def alphabetize_name(list_of_dicts):\n",
        "  return sorted(list_of_dicts,\n",
        "                key = operator.itemgetter('last','first'))\n",
        "  \n",
        "print(alphabetize_name(people))"
      ],
      "metadata": {
        "colab": {
          "base_uri": "https://localhost:8080/"
        },
        "id": "8SOyeHt6H7Oq",
        "outputId": "89cee02b-b267-44b2-ab90-ac60b81dd417"
      },
      "execution_count": 39,
      "outputs": [
        {
          "output_type": "stream",
          "name": "stdout",
          "text": [
            "[{'first': 'Reuven', 'last': 'Learner', 'email': 'reuven@learner,co,il'}, {'first': 'Donald', 'last': 'Trump', 'email': 'president@ksd.hi'}, {'first': 'Amar', 'last': 'kumar', 'email': 'president@ksd.hi'}]\n"
          ]
        }
      ]
    },
    {
      "cell_type": "code",
      "source": [],
      "metadata": {
        "id": "3Vy1dFvnJcSC"
      },
      "execution_count": null,
      "outputs": []
    }
  ]
}